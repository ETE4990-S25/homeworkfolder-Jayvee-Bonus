{
 "cells": [
  {
   "cell_type": "markdown",
   "id": "0209af47-6b8d-4f34-8292-aa79deef5088",
   "metadata": {},
   "source": [
    "# Lab 2 - Refactoring\n",
    "## Refactoring is:\n",
    "\n",
    "Refactoring is the process of restructuring or rewriting code, while not changing its original functionality. The goal of refactoring is to improve internal code by making many small changes without altering the code's external behavior. \n",
    "\n",
    "It is easier said than done. "
   ]
  },
  {
   "cell_type": "markdown",
   "id": "f470981d-7433-42f0-a742-a9ddeae57056",
   "metadata": {},
   "source": [
    "### Part 1 - Warm-up\n",
    "\n",
    "You will refactor the following code:"
   ]
  },
  {
   "cell_type": "code",
   "execution_count": 2,
   "id": "b817e22e-46ae-4dfe-9a38-c3d3e818168b",
   "metadata": {},
   "outputs": [
    {
     "name": "stdout",
     "output_type": "stream",
     "text": [
      "Enter a number:  1\n"
     ]
    },
    {
     "name": "stdout",
     "output_type": "stream",
     "text": [
      "5 is more than 1\n"
     ]
    }
   ],
   "source": [
    "#stolen from https://realpython.com/python-refactoring/\n",
    "#yes you can go there and look at what they did no do it yourself\n",
    "x = 5\n",
    "value = input(\"Enter a number: \")\n",
    "y = int(value)\n",
    "if x < y:\n",
    "    print(f\"{x} is less than {y}\")\n",
    "elif x == y:\n",
    "    print(f\"{x} is equal to {y}\")\n",
    "else:\n",
    "    print(f\"{x} is more than {y}\")"
   ]
  },
  {
   "cell_type": "code",
   "execution_count": 7,
   "id": "033cf53c-96bc-4174-813d-09ad088787d6",
   "metadata": {},
   "outputs": [
    {
     "name": "stdin",
     "output_type": "stream",
     "text": [
      "Enter a number:  6\n"
     ]
    },
    {
     "name": "stdout",
     "output_type": "stream",
     "text": [
      "5 is\n",
      "less than\n",
      "6\n"
     ]
    }
   ],
   "source": [
    "# put your refactored code here\n",
    "solution = 5 \n",
    "yourGuess = int(input(\"Enter a number: \"))\n",
    "print(solution, \"is\")\n",
    "\n",
    "if solution < yourGuess:\n",
    "    print (\"less than\")\n",
    "elif solution > yourGuess:\n",
    "    print (\"more than\")\n",
    "else:\n",
    "    print(\"equal to\")\n",
    "\n",
    "print (f\"{yourGuess}\")"
   ]
  },
  {
   "cell_type": "markdown",
   "id": "bb9edc37-9bd7-4b4a-8ec1-d1465d85be37",
   "metadata": {},
   "source": [
    "## Part 2\n",
    "Refactor the following"
   ]
  },
  {
   "cell_type": "code",
   "execution_count": null,
   "id": "733c4d16-c02c-4058-9cb6-4b751c86dc93",
   "metadata": {},
   "outputs": [],
   "source": [
    "def a(x, y):\n",
    "    if x == \"wizard\":\n",
    "        if y == \"fireball\":\n",
    "            return \"casts fireball\"\n",
    "        elif y == \"lightning\":\n",
    "            return \"casts lightning\"\n",
    "        else:\n",
    "            return \"does nothing\"\n",
    "    elif x == \"warrior\":\n",
    "        if y == \"slash\":\n",
    "            return \"slashes with sword\"\n",
    "        elif y == \"bash\":\n",
    "            return \"bashes with shield\"\n",
    "        else:\n",
    "            return \"does nothing\"\n",
    "    else:\n",
    "        return \"does nothing\"\n",
    "\n",
    "def b(z):\n",
    "    for i in range(10):\n",
    "        if z == \"dragon\":\n",
    "            return \"fights dragon\"\n",
    "        elif z == \"goblin\":\n",
    "            return \"fights goblin\"\n",
    "        elif z == \"orc\":\n",
    "            return \"fights orc\"\n",
    "        else:\n",
    "            return \"does nothing\"\n",
    "\n",
    "def c():\n",
    "    for i in range(5):\n",
    "        print(\"exploring dungeon\")\n",
    "    for j in range(5):\n",
    "        print(\"finding treasure\")\n",
    "\n",
    "def main():\n",
    "    print(a(\"wizard\", \"fireball\"))\n",
    "    print(a(\"warrior\", \"slash\"))\n",
    "    print(b(\"dragon\"))\n",
    "    c()\n"
   ]
  },
  {
   "cell_type": "code",
   "execution_count": 9,
   "id": "fb3a0a0f",
   "metadata": {},
   "outputs": [],
   "source": [
    "# put your refactored code here\n",
    "def a(inPlayType, inPlayAttk, inPlayEnemy):\n",
    "\n",
    "    spells = [\"fireball\",\"lighting\"]\n",
    "    attack = [\"slash\",\"bash\"]\n",
    "    enemy = [\"dragon\",\"goblin\",\"orc\"]\n",
    "\n",
    "    if inPlayType == \"wizard\":\n",
    "        if inPlayAttk in spells:\n",
    "            return \"casts\" + inPlayAttack\n",
    "            if inPlayEnmy in enemy:\n",
    "                return \"on\" + inPlayEnemy\n",
    "        return \"does nothing\"\n",
    "\n",
    "    elif inPlayType == \"warrior\":\n",
    "        if inPlayAttk in attack:\n",
    "            return \"does\" + inPlayAttk\n",
    "            if inPLayEnmy in enemy:\n",
    "                return \"on\" + inPlayEnemy\n",
    "        return \"does nothing\"\n",
    "\n",
    "    return \"does nothing\"\n",
    "            "
   ]
  },
  {
   "cell_type": "markdown",
   "id": "26b895c1",
   "metadata": {},
   "source": [
    "# Part 3\n",
    "Refactor your partners lab 1 code so it is a clean function. Look at part 4 and see how you can adapt the code to fit project one. "
   ]
  },
  {
   "cell_type": "code",
   "execution_count": 3,
   "id": "aea861b2-2799-46f4-909a-8b224e636b2a",
   "metadata": {},
   "outputs": [
    {
     "name": "stdout",
     "output_type": "stream",
     "text": [
      "You dare to face me in the dice rolling game?\n",
      "Roll your dice, we'll see who the real champion is!\n"
     ]
    },
    {
     "name": "stdin",
     "output_type": "stream",
     "text": [
      "Press enter...i guess... \n"
     ]
    },
    {
     "name": "stdout",
     "output_type": "stream",
     "text": [
      "You rolled : [5, 4, 3, 4, 1]\n",
      "I rolled : [4, 6, 5, 3, 4]\n",
      "WIN\n",
      "LOSE\n",
      "LOSE\n",
      "WIN\n",
      "LOSE\n",
      "Evil dice wins! 22 17\n"
     ]
    }
   ],
   "source": [
    "import random\n",
    "\n",
    "def dice_roll():\n",
    "    list1 = [1,2,3,4,5,6]\n",
    "    return random.choice(list1)\n",
    "\n",
    "print (\"You dare to face me in the dice rolling game?\")\n",
    "print (\"Roll your dice, we'll see who the real champion is!\") \n",
    "\n",
    "input(\"Press enter...i guess...\")\n",
    "\n",
    "list2 = [dice_roll(),dice_roll(),dice_roll(),dice_roll(),dice_roll()]\n",
    "user_dice = list2\n",
    "print (\"You rolled :\" , user_dice)\n",
    "\n",
    "list3 = [dice_roll(),dice_roll(),dice_roll(),dice_roll(),dice_roll()]\n",
    "evil_dice = list3\n",
    "print (\"I rolled :\" , evil_dice) #evil dice is funny\n",
    "if list2[0] > list3[0]:\n",
    "    print (\"WIN\")\n",
    "elif list2[0] < list3[0]:\n",
    "    print (\"LOSE\")\n",
    "else:\n",
    "    print (\"TIE\")\n",
    "\n",
    "if list2[1] > list3[1]:\n",
    "    print (\"WIN\")\n",
    "elif list2[1] < list3[1]:\n",
    "    print (\"LOSE\")\n",
    "else:\n",
    "    print (\"TIE\")\n",
    "\n",
    "if list2[2] > list3[2]:\n",
    "    print (\"WIN\")\n",
    "elif list2[2] < list3[2]:\n",
    "    print (\"LOSE\")\n",
    "else:\n",
    "    print (\"TIE\")\n",
    "\n",
    "if list2[3] > list3[3]:\n",
    "    print (\"WIN\")\n",
    "elif list2[3] < list3[3]:\n",
    "    print (\"LOSE\")\n",
    "else:\n",
    "    print (\"TIE\")\n",
    "\n",
    "if list2[4] > list3[4]:\n",
    "    print (\"WIN\")\n",
    "elif list2[4] < list3[4]:\n",
    "    print (\"LOSE\")\n",
    "else:\n",
    "    print (\"TIE\")\n",
    "\n",
    "Finalscore_user = list2[0]+list2[1]+list2[2]+list2[3]+list2[4]\n",
    "Finalscore_evil = list3[0]+list3[1]+list3[2]+list3[3]+list3[4]\n",
    "\n",
    "if Finalscore_user > Finalscore_evil:\n",
    "    print (\"You win!\", Finalscore_user, Finalscore_evil)\n",
    "elif Finalscore_user < Finalscore_evil:\n",
    "    print (\"Evil dice wins!\", Finalscore_evil, Finalscore_user)\n",
    "else:\n",
    "    print (\"We tied?!\", Finalscore_user, Finalscore_evil) #good logic, good life"
   ]
  },
  {
   "cell_type": "code",
   "execution_count": 4,
   "id": "6f30c1ab",
   "metadata": {},
   "outputs": [
    {
     "name": "stdin",
     "output_type": "stream",
     "text": [
      "You dare to face me in the dice rolling game? Roll your dice, we'll see who the real champion is! \n"
     ]
    },
    {
     "name": "stdout",
     "output_type": "stream",
     "text": [
      "You rolled:  [2] I rolled:  [2]\n",
      "TIE\n"
     ]
    },
    {
     "name": "stdin",
     "output_type": "stream",
     "text": [
      "You dare to face me in the dice rolling game? Roll your dice, we'll see who the real champion is! \n"
     ]
    },
    {
     "name": "stdout",
     "output_type": "stream",
     "text": [
      "You rolled:  [1] I rolled:  [4]\n",
      "LOSE\n"
     ]
    },
    {
     "name": "stdin",
     "output_type": "stream",
     "text": [
      "You dare to face me in the dice rolling game? Roll your dice, we'll see who the real champion is! \n"
     ]
    },
    {
     "name": "stdout",
     "output_type": "stream",
     "text": [
      "You rolled:  [5] I rolled:  [2]\n",
      "WIN\n"
     ]
    },
    {
     "name": "stdin",
     "output_type": "stream",
     "text": [
      "You dare to face me in the dice rolling game? Roll your dice, we'll see who the real champion is! \n"
     ]
    },
    {
     "name": "stdout",
     "output_type": "stream",
     "text": [
      "You rolled:  [1] I rolled:  [3]\n",
      "LOSE\n"
     ]
    },
    {
     "name": "stdin",
     "output_type": "stream",
     "text": [
      "You dare to face me in the dice rolling game? Roll your dice, we'll see who the real champion is! \n"
     ]
    },
    {
     "name": "stdout",
     "output_type": "stream",
     "text": [
      "You rolled:  [2] I rolled:  [2]\n",
      "TIE\n",
      "Your score: 11\n",
      "My score: 13\n",
      "Evil dice wins!\n"
     ]
    }
   ],
   "source": [
    "# put your refactored code here\n",
    "import random\n",
    "\n",
    "\n",
    "totalplr = 0\n",
    "totalevl = 0\n",
    "\n",
    "for x in range(5):\n",
    "\n",
    "    input(\"You dare to face me in the dice rolling game? Roll your dice, we'll see who the real champion is!\") \n",
    "    playroll = [random.choice([1,2,3,4,5,6])]\n",
    "    megaroll = [random.choice([1,2,3,4,5,6])]\n",
    "\n",
    "    print(\"You rolled: \", playroll, \"I rolled: \", megaroll)\n",
    "    if playroll > megaroll:\n",
    "        print (\"WIN\")\n",
    "    elif playroll < megaroll:\n",
    "        print (\"LOSE\")\n",
    "    else:\n",
    "        print (\"TIE\")\n",
    "\n",
    "    totalplr += playroll[0]\n",
    "    totalevl += megaroll[0]\n",
    "\n",
    "print(\"Your score:\", totalplr)\n",
    "print(\"My score:\", totalevl) \n",
    "\n",
    "if totalplr > totalevl:\n",
    "    print(\"You win!\")\n",
    "elif totalplr < totalevl:\n",
    "    print(\"Evil dice wins!\")\n",
    "else:\n",
    "    print(\"We tied?!\")"
   ]
  },
  {
   "cell_type": "code",
   "execution_count": null,
   "id": "4778f48d-ca83-497e-aec3-eae515ad8874",
   "metadata": {},
   "outputs": [],
   "source": []
  },
  {
   "cell_type": "markdown",
   "id": "e589c6c8-f937-47e0-8db2-a37e03c12336",
   "metadata": {},
   "source": [
    "## Part 4 - take home but start in class                  \n",
    "# Project #1  introduction \n",
    "\n",
    "\n",
    "Your task is to develop a text-based video game focusing on the player profile, inventory system, and combat mechanics. Create a realistic player character with at least 10 inventory items, each with a description and an associated trait. Enjoy the process!\n",
    "\n",
    "Incorporate all the concepts we've covered so far, including files (read and write), JSON, operators, lists, optional tuples, functions, modules, and classes.\n",
    "\n",
    "### Requirements:\n",
    "- **Player Type Selection**: Allow players to choose their character type. Set attributes based on the choice (e.g., wizard: magic = 10, knight: magic = 0).\n",
    "- **Inventory Display**: Implement a function to show the player's inventory.\n",
    "- **Item Details**: Write a function to provide detailed information about an inventory item (e.g., Knife: \"forged in the depths of Polymar\", +5 magic, edged weapon, one-handed).\n",
    "  - Bonus: Calculate bonuses when equipping and unequipping items.\n",
    "- **Inventory Management**: Create functions to add and remove items from the inventory.\n",
    "- **Persistence**: Ensure the game can save and reload the player's character using files.\n",
    "\n",
    "Focus on building the player and inventory system for your text-based adventure game (similar to Zork). The map and gameplay can be developed later.\n",
    "\n",
    "### Game Features:\n",
    "- **Player Profile**: Include player stats.\n",
    "- **Inventory System**: Implement a bag to hold items.\n",
    "- **Items**: Include 10 items, each with a description and trait (e.g., +5 magic).\n",
    "- **Concepts**: Utilize functions, loops, arrays, classes, and constants. You may also use files and structs if desired.\n",
    "- **Player Type Selection**: Allow players to choose their character type and set attributes accordingly (e.g., wizard: magic = 10, knight: magic = 0).\n",
    "- **Inventory Display**: Implement a function to show the player's inventory.\n",
    "- **Code Quality**: Keep your code clean and consider various player needs, as this project will be handed off to a partner for further development.\n",
    "\n"
   ]
  },
  {
   "cell_type": "markdown",
   "id": "1fe3ba5e-722b-4ed8-b36f-c9ebd718bd7d",
   "metadata": {},
   "source": [
    "# Project 1 - Part 1\n",
    "Spend time planning out your code. You may work with your partner to plan out your code. How would you like your game to play? \n",
    "\n",
    "Use a UML planner like: \n",
    "\n",
    "\n",
    "https://miro.com/\n"
   ]
  },
  {
   "cell_type": "code",
   "execution_count": null,
   "id": "3bdce5be-0a31-4cf9-ba17-0f5be8cefc33",
   "metadata": {},
   "outputs": [],
   "source": []
  }
 ],
 "metadata": {
  "kernelspec": {
   "display_name": "Python [conda env:base] *",
   "language": "python",
   "name": "conda-base-py"
  },
  "language_info": {
   "codemirror_mode": {
    "name": "ipython",
    "version": 3
   },
   "file_extension": ".py",
   "mimetype": "text/x-python",
   "name": "python",
   "nbconvert_exporter": "python",
   "pygments_lexer": "ipython3",
   "version": "3.12.7"
  }
 },
 "nbformat": 4,
 "nbformat_minor": 5
}
