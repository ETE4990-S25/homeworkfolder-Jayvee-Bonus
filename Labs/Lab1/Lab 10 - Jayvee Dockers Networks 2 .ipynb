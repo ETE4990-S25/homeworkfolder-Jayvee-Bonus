{
 "cells": [
  {
   "cell_type": "markdown",
   "id": "5e447dac-da84-4169-8796-3917ed6d8103",
   "metadata": {},
   "source": [
    "# Lab 10\n",
    "Understanding Docker Networks\n",
    "\n",
    "What is Container Networking?\n",
    "Container networking also called Software Defined Networking (SDN) is what allows Docker networkgin subsystems to work. \n",
    "\n",
    "Some defalt Docker Netwrok drivers are:\n",
    "- Bridge\n",
    "    - a Network that is User-defined to allow for all containers connected on the same network to communicate with eachother. \n",
    "- Host\n",
    "    - a container is attahed to a Docker host. Any traffic routed to the container must be routed from the host system.\n",
    "- Overlay\n",
    "    - Created in a network spanning multiple docker hosts. Think each of your docker containers in the lab talking to eachother\n",
    "- Macvlan\n",
    "    - used in complicated networking to assing logical addresses based on MAC addresses to the virtual network interfaces making it apear as if the container has a physical network interaface connected to the network. Used in legacy applications.\n",
    "- None\n",
    "    -  the container only has a loopback interface so it can talk to itself.\n",
    "\n"
   ]
  },
  {
   "cell_type": "markdown",
   "id": "6c1971a0-cbb0-4889-bf10-59d6f08cb1ec",
   "metadata": {},
   "source": [
    "# Part 1 - Setup"
   ]
  },
  {
   "cell_type": "code",
   "execution_count": 1,
   "id": "6acffbb4-8220-4bf2-bed2-15113dad9621",
   "metadata": {},
   "outputs": [
    {
     "name": "stderr",
     "output_type": "stream",
     "text": [
      "docker: Error response from daemon: Conflict. The container name \"/nginx\" is already in use by container \"44cb21abbddcc409855947856702c86c03e03637a42e77dd95f4a9d1d6b03062\". You have to remove (or rename) that container to be able to reuse that name.\n",
      "\n",
      "Run 'docker run --help' for more information\n"
     ]
    }
   ],
   "source": [
    "!docker run -d --name nginx --network=none -p 81:81 nginx"
   ]
  },
  {
   "cell_type": "markdown",
   "id": "7c2e897d",
   "metadata": {},
   "source": [
    "## Note:\n",
    "**If you get this error:**\n",
    "\n",
    "*docker: permission denied while trying to connect to the Docker daemon ...*\n",
    "\n",
    "run this in wsl: \n",
    "``` bash\n",
    "sudo usermod -aG docker $USER\n",
    "newgrp docker\n",
    "sudo systemctl restart docker\n",
    "```\n",
    "Run it again....\n",
    "\n",
    "you should get a hash number YAY!\n",
    "\n",
    "`cbb2f01cd1b...`\n",
    "\n",
    "--------------------------------------\n",
    "If you are still getting the error\n",
    "\n",
    "\n",
    "run this:\n",
    "``` bash\n",
    "sudo chmod 666 /usr/docker.sock\n",
    "```\n",
    "--------------------------------------\n",
    "**If you get this error you did things right**\n",
    "\n",
    "docker: Error response from daemon: Conflict. The container name \"/nginx\n",
    "\n",
    "--------------------------------------\n"
   ]
  },
  {
   "cell_type": "markdown",
   "id": "2d98e870-0a17-4c39-bd13-01e33efb6968",
   "metadata": {},
   "source": [
    "## we now have an nginx container \n",
    "\n",
    "NGINX serves static content (like HTML, CSS, JavaScript, images) efficiently, improving website performance."
   ]
  },
  {
   "cell_type": "code",
   "execution_count": 2,
   "id": "bf176171-5f9f-4ac7-9286-425a76eb8305",
   "metadata": {},
   "outputs": [
    {
     "name": "stderr",
     "output_type": "stream",
     "text": [
      "  % Total    % Received % Xferd  Average Speed   Time    Time     Time  Current\n",
      "                                 Dload  Upload   Total   Spent    Left  Speed\n",
      "\n",
      "  0     0    0     0    0     0      0      0 --:--:-- --:--:-- --:--:--     0\n",
      "  0     0    0     0    0     0      0      0 --:--:--  0:00:01 --:--:--     0\n",
      "  0     0    0     0    0     0      0      0 --:--:--  0:00:02 --:--:--     0\n",
      "  0     0    0     0    0     0      0      0 --:--:--  0:00:02 --:--:--     0\n",
      "curl: (7) Failed to connect to localhost port 80 after 2242 ms: Could not connect to server\n"
     ]
    }
   ],
   "source": [
    "!curl localhost\n",
    "\n",
    "#the curl command should fail on our system "
   ]
  },
  {
   "cell_type": "markdown",
   "id": "5b36335c",
   "metadata": {},
   "source": [
    "Lets run it on the docker container "
   ]
  },
  {
   "cell_type": "code",
   "execution_count": 3,
   "id": "7d5e5d9d-447c-42fe-8001-32558b74c99f",
   "metadata": {},
   "outputs": [
    {
     "name": "stderr",
     "output_type": "stream",
     "text": [
      "the input device is not a TTY.  If you are using mintty, try prefixing the command with 'winpty'\n"
     ]
    }
   ],
   "source": [
    "!docker exec -it nginx /bin/sh -c \"curl google.com\"\n",
    "\n"
   ]
  },
  {
   "cell_type": "markdown",
   "id": "9ce3c2a3-94d5-4a41-9ade-d7547f0bf620",
   "metadata": {},
   "source": [
    "* curl:(6) Could not resolve host: google.com\n",
    "\n",
    "As you can see the nginx container can not talk to google.com"
   ]
  },
  {
   "cell_type": "markdown",
   "id": "350ca9e3",
   "metadata": {},
   "source": [
    "# Part 2 - Understanding the network \n",
    "Docker comes with a subcommand for handling Docker networks."
   ]
  },
  {
   "cell_type": "code",
   "execution_count": 4,
   "id": "525d321d-03b1-40d5-900a-dea58424f8c7",
   "metadata": {},
   "outputs": [
    {
     "name": "stderr",
     "output_type": "stream",
     "text": [
      "Usage:  docker network COMMAND\n",
      "\n",
      "Manage networks\n",
      "\n",
      "Commands:\n",
      "  connect     Connect a container to a network\n",
      "  create      Create a network\n",
      "  disconnect  Disconnect a container from a network\n",
      "  inspect     Display detailed information on one or more networks\n",
      "  ls          List networks\n",
      "  prune       Remove all unused networks\n",
      "  rm          Remove one or more networks\n",
      "\n",
      "Run 'docker network COMMAND --help' for more information on a command.\n"
     ]
    }
   ],
   "source": [
    "!docker network"
   ]
  },
  {
   "cell_type": "markdown",
   "id": "520215d5",
   "metadata": {},
   "source": [
    "running `docker network ls` will show us all the names of the networks.\n"
   ]
  },
  {
   "cell_type": "code",
   "execution_count": 5,
   "id": "0b43ead8-1577-43d7-b877-f6e3868e861f",
   "metadata": {},
   "outputs": [
    {
     "name": "stdout",
     "output_type": "stream",
     "text": [
      "NETWORK ID     NAME      DRIVER    SCOPE\n",
      "6d33a781e4e4   bridge    bridge    local\n",
      "0874766683fb   host      host      local\n",
      "ef5b222716f3   none      null      local\n"
     ]
    }
   ],
   "source": [
    "!docker network ls "
   ]
  },
  {
   "cell_type": "markdown",
   "id": "1e1283e9",
   "metadata": {},
   "source": [
    "In the above you can see that there is a none network. \n",
    "\n",
    "When we setup the docker nginx server we did not give it a network\n",
    "\n",
    "lets look for the nginx server"
   ]
  },
  {
   "cell_type": "code",
   "execution_count": 6,
   "id": "42b70960-d6ad-45b7-90ec-086ecfaa3fcf",
   "metadata": {},
   "outputs": [
    {
     "name": "stdout",
     "output_type": "stream",
     "text": [
      "[\n",
      "    {\n",
      "        \"Name\": \"none\",\n",
      "        \"Id\": \"ef5b222716f397a8f469d0c7443ca384ed14e51768fc3ec44a2893e30356df66\",\n",
      "        \"Created\": \"2025-04-07T01:48:55.336663273Z\",\n",
      "        \"Scope\": \"local\",\n",
      "        \"Driver\": \"null\",\n",
      "        \"EnableIPv4\": true,\n",
      "        \"EnableIPv6\": false,\n",
      "        \"IPAM\": {\n",
      "            \"Driver\": \"default\",\n",
      "            \"Options\": null,\n",
      "            \"Config\": null\n",
      "        },\n",
      "        \"Internal\": false,\n",
      "        \"Attachable\": false,\n",
      "        \"Ingress\": false,\n",
      "        \"ConfigFrom\": {\n",
      "            \"Network\": \"\"\n",
      "        },\n",
      "        \"ConfigOnly\": false,\n",
      "        \"Containers\": {\n",
      "            \"44cb21abbddcc409855947856702c86c03e03637a42e77dd95f4a9d1d6b03062\": {\n",
      "                \"Name\": \"nginx\",\n",
      "                \"EndpointID\": \"1270426ffa1c30e70452e32ca3999310ab8a3fcfcf4d200d8158b807084f9398\",\n",
      "                \"MacAddress\": \"\",\n",
      "                \"IPv4Address\": \"\",\n",
      "                \"IPv6Address\": \"\"\n",
      "            }\n",
      "        },\n",
      "        \"Options\": {},\n",
      "        \"Labels\": {}\n",
      "    }\n",
      "]\n"
     ]
    }
   ],
   "source": [
    "!docker network inspect none "
   ]
  },
  {
   "cell_type": "markdown",
   "id": "c447bfd3",
   "metadata": {},
   "source": [
    "## OK Enough of that nonsense\n",
    "Lets install docker and use the API to do some work this is a python class after all"
   ]
  },
  {
   "cell_type": "code",
   "execution_count": 7,
   "id": "b59cdbbe",
   "metadata": {},
   "outputs": [
    {
     "name": "stdout",
     "output_type": "stream",
     "text": [
      "Collecting docker\n",
      "  Downloading docker-7.1.0-py3-none-any.whl.metadata (3.8 kB)\n",
      "Requirement already satisfied: pywin32>=304 in c:\\users\\jayve\\anaconda3\\lib\\site-packages (from docker) (305.1)\n",
      "Requirement already satisfied: requests>=2.26.0 in c:\\users\\jayve\\anaconda3\\lib\\site-packages (from docker) (2.32.3)\n",
      "Requirement already satisfied: urllib3>=1.26.0 in c:\\users\\jayve\\anaconda3\\lib\\site-packages (from docker) (2.2.3)\n",
      "Requirement already satisfied: charset-normalizer<4,>=2 in c:\\users\\jayve\\anaconda3\\lib\\site-packages (from requests>=2.26.0->docker) (3.3.2)\n",
      "Requirement already satisfied: idna<4,>=2.5 in c:\\users\\jayve\\anaconda3\\lib\\site-packages (from requests>=2.26.0->docker) (3.7)\n",
      "Requirement already satisfied: certifi>=2017.4.17 in c:\\users\\jayve\\anaconda3\\lib\\site-packages (from requests>=2.26.0->docker) (2024.12.14)\n",
      "Downloading docker-7.1.0-py3-none-any.whl (147 kB)\n",
      "Installing collected packages: docker\n",
      "Successfully installed docker-7.1.0\n"
     ]
    }
   ],
   "source": [
    "!pip install docker"
   ]
  },
  {
   "cell_type": "code",
   "execution_count": 8,
   "id": "df37d71d",
   "metadata": {},
   "outputs": [
    {
     "name": "stdout",
     "output_type": "stream",
     "text": [
      "Docker version: 28.0.4\n"
     ]
    },
    {
     "name": "stderr",
     "output_type": "stream",
     "text": [
      "c:\\Users\\jayve\\anaconda3\\Lib\\site-packages\\paramiko\\pkey.py:82: CryptographyDeprecationWarning: TripleDES has been moved to cryptography.hazmat.decrepit.ciphers.algorithms.TripleDES and will be removed from this module in 48.0.0.\n",
      "  \"cipher\": algorithms.TripleDES,\n",
      "c:\\Users\\jayve\\anaconda3\\Lib\\site-packages\\paramiko\\transport.py:219: CryptographyDeprecationWarning: Blowfish has been moved to cryptography.hazmat.decrepit.ciphers.algorithms.Blowfish and will be removed from this module in 45.0.0.\n",
      "  \"class\": algorithms.Blowfish,\n",
      "c:\\Users\\jayve\\anaconda3\\Lib\\site-packages\\paramiko\\transport.py:243: CryptographyDeprecationWarning: TripleDES has been moved to cryptography.hazmat.decrepit.ciphers.algorithms.TripleDES and will be removed from this module in 48.0.0.\n",
      "  \"class\": algorithms.TripleDES,\n"
     ]
    }
   ],
   "source": [
    "import docker\n",
    "\n",
    "client = docker.from_env()\n",
    "\n",
    "print(\"Docker version:\", client.version()['Version'])\n"
   ]
  },
  {
   "cell_type": "markdown",
   "id": "2f463d0d",
   "metadata": {},
   "source": [
    "Lets create a quick code to list the containers using the docker client"
   ]
  },
  {
   "cell_type": "code",
   "execution_count": 9,
   "id": "eb64257a",
   "metadata": {},
   "outputs": [
    {
     "name": "stdout",
     "output_type": "stream",
     "text": [
      "nginx - running\n"
     ]
    }
   ],
   "source": [
    "def list_running_containers():\n",
    "    containers = client.containers.list(all=True)# list all containers\n",
    "    #containers = client.containers.list() #list only running containers\n",
    "    for container in containers:\n",
    "        print(f\"{container.name} - {container.status}\")\n",
    "\n",
    "list_running_containers()"
   ]
  },
  {
   "cell_type": "markdown",
   "id": "18c4ee6c",
   "metadata": {},
   "source": [
    "Here you can see the running container and no surprise it is the nginx we started before\n"
   ]
  },
  {
   "cell_type": "code",
   "execution_count": 10,
   "id": "32e42e0a",
   "metadata": {},
   "outputs": [
    {
     "name": "stdout",
     "output_type": "stream",
     "text": [
      "nginx in network 'none' has IP: \n"
     ]
    }
   ],
   "source": [
    "#lest identify the network of the nginx container\n",
    "def show_container_ip(container_name):\n",
    "    container = client.containers.get(container_name)\n",
    "    networks = container.attrs['NetworkSettings']['Networks']\n",
    "    \n",
    "    for net_name, net_data in networks.items():\n",
    "        print(f\"{container_name} in network '{net_name}' has IP: {net_data['IPAddress']}\")\n",
    "\n",
    "\n",
    "show_container_ip(\"nginx\")\n"
   ]
  },
  {
   "cell_type": "markdown",
   "id": "1748a68f",
   "metadata": {},
   "source": [
    "again no surprise there is no IP address as it does not have a network. "
   ]
  },
  {
   "cell_type": "markdown",
   "id": "27f669c9",
   "metadata": {},
   "source": [
    "### ok I lied back to creating more stuff though the CLI"
   ]
  },
  {
   "cell_type": "code",
   "execution_count": 20,
   "id": "8689fe8e-6afa-48a1-9c86-e05cf5f0ad51",
   "metadata": {},
   "outputs": [
    {
     "name": "stdout",
     "output_type": "stream",
     "text": [
      "4457b2076a6ecf97f69cc875167216552d264f3e6ca060483ad5318cf80ae869\n"
     ]
    }
   ],
   "source": [
    "#setup another container for mysql\n",
    "!docker run -d --name mysql -p 3306:3306 -e MYSQL_ROOT_PASSWORD=1 mysql:8\n",
    "#Note the -d means detached mode so no container is using created just the MySQL database "
   ]
  },
  {
   "cell_type": "markdown",
   "id": "b312951a-708d-4e69-80b7-9d37b5bd10fc",
   "metadata": {},
   "source": [
    "## The following needs to be run in the terminal"
   ]
  },
  {
   "cell_type": "code",
   "execution_count": 21,
   "id": "c1b77a0a-53a2-44a7-af22-8a4113d80666",
   "metadata": {},
   "outputs": [
    {
     "name": "stderr",
     "output_type": "stream",
     "text": [
      "docker: Error response from daemon: Conflict. The container name \"/adminer\" is already in use by container \"11eaeb5a4eb5b303320bf7e5964ffb5b07f82df0ff8190da993bf36e19fcc063\". You have to remove (or rename) that container to be able to reuse that name.\n",
      "\n",
      "Run 'docker run --help' for more information\n"
     ]
    }
   ],
   "source": [
    "!docker run -d --name adminer -p 8080:8080 adminer\n"
   ]
  },
  {
   "cell_type": "markdown",
   "id": "814b761c",
   "metadata": {},
   "source": [
    "Run the following each in there own terminal\n",
    "\n",
    "``` bash\n",
    "docker logs -f mysql\n",
    "docker logs -f adminer\n",
    "```"
   ]
  },
  {
   "cell_type": "code",
   "execution_count": 22,
   "id": "d3295ddc-40c8-4dc3-bac5-f449cedd6a1c",
   "metadata": {},
   "outputs": [
    {
     "name": "stdout",
     "output_type": "stream",
     "text": [
      "------------------------------\n",
      "mysql in network 'bridge' has IP: 172.17.0.3\n"
     ]
    },
    {
     "name": "stderr",
     "output_type": "stream",
     "text": [
      "'grep' is not recognized as an internal or external command,\n",
      "operable program or batch file.\n"
     ]
    }
   ],
   "source": [
    "!docker inspect mysql | grep -n1 \"IPAddress\\\":\"\n",
    "# or\n",
    "print(\"-\"*30)\n",
    "show_container_ip(\"mysql\")\n"
   ]
  },
  {
   "cell_type": "code",
   "execution_count": 23,
   "id": "d245598f-5982-448f-826b-dcf2a02ea142",
   "metadata": {},
   "outputs": [
    {
     "name": "stdout",
     "output_type": "stream",
     "text": [
      "------------------------------\n",
      "adminer in network 'bridge' has IP: 172.17.0.2\n"
     ]
    },
    {
     "name": "stderr",
     "output_type": "stream",
     "text": [
      "'grep' is not recognized as an internal or external command,\n",
      "operable program or batch file.\n"
     ]
    }
   ],
   "source": [
    "!docker inspect adminer| grep  -n1 \"IPAddress\\\":\"\n",
    "# or\n",
    "print(\"-\"*30)\n",
    "show_container_ip(\"adminer\")\n"
   ]
  },
  {
   "cell_type": "markdown",
   "id": "0e8d4efa",
   "metadata": {},
   "source": [
    "### Lets do a bit of cleanup \n",
    "\n",
    "``` bash\n",
    "#lets remove our old container\n",
    "!docker stop adminer\n",
    "!docker rm adminer\n",
    "!docker stop mysql\n",
    "!docker rm mysql\n",
    "!docker stop nginx \n",
    "!docker rm nginx\n",
    "```"
   ]
  },
  {
   "cell_type": "code",
   "execution_count": null,
   "id": "8b58f533",
   "metadata": {},
   "outputs": [
    {
     "name": "stdout",
     "output_type": "stream",
     "text": [
      "mysql - running\n",
      "adminer - running\n",
      "nginx - exited\n",
      "Waiting for mysql to stop...\n"
     ]
    },
    {
     "ename": "KeyboardInterrupt",
     "evalue": "",
     "output_type": "error",
     "traceback": [
      "\u001b[1;31m---------------------------------------------------------------------------\u001b[0m",
      "\u001b[1;31mKeyboardInterrupt\u001b[0m                         Traceback (most recent call last)",
      "Cell \u001b[1;32mIn[24], line 20\u001b[0m\n\u001b[0;32m     16\u001b[0m             container\u001b[38;5;241m.\u001b[39mremove()\n\u001b[0;32m     18\u001b[0m list_running_containers()\n\u001b[1;32m---> 20\u001b[0m clean_containers()\n",
      "Cell \u001b[1;32mIn[24], line 10\u001b[0m, in \u001b[0;36mclean_containers\u001b[1;34m()\u001b[0m\n\u001b[0;32m      8\u001b[0m container\u001b[38;5;241m.\u001b[39mstop()\n\u001b[0;32m      9\u001b[0m \u001b[38;5;28mprint\u001b[39m(\u001b[38;5;124mf\u001b[39m\u001b[38;5;124m\"\u001b[39m\u001b[38;5;124mWaiting for \u001b[39m\u001b[38;5;132;01m{\u001b[39;00mcontainer\u001b[38;5;241m.\u001b[39mname\u001b[38;5;132;01m}\u001b[39;00m\u001b[38;5;124m to stop...\u001b[39m\u001b[38;5;124m\"\u001b[39m)\n\u001b[1;32m---> 10\u001b[0m \u001b[38;5;28;01mwhile\u001b[39;00m container\u001b[38;5;241m.\u001b[39mstatus \u001b[38;5;241m!=\u001b[39m \u001b[38;5;124m'\u001b[39m\u001b[38;5;124mexited\u001b[39m\u001b[38;5;124m'\u001b[39m:\n\u001b[0;32m     11\u001b[0m     \u001b[38;5;28;01mpass\u001b[39;00m\n\u001b[0;32m     13\u001b[0m container\u001b[38;5;241m.\u001b[39mreload()\n",
      "\u001b[1;31mKeyboardInterrupt\u001b[0m: "
     ]
    },
    {
     "ename": "",
     "evalue": "",
     "output_type": "error",
     "traceback": [
      "\u001b[1;31mThe Kernel crashed while executing code in the current cell or a previous cell. \n",
      "\u001b[1;31mPlease review the code in the cell(s) to identify a possible cause of the failure. \n",
      "\u001b[1;31mClick <a href='https://aka.ms/vscodeJupyterKernelCrash'>here</a> for more info. \n",
      "\u001b[1;31mView Jupyter <a href='command:jupyter.viewOutput'>log</a> for further details."
     ]
    }
   ],
   "source": [
    "def clean_containers():\n",
    "    containers = client.containers.list(all=True)\n",
    "    if not containers:\n",
    "        print(\"No containers to clean.\")\n",
    "        return\n",
    "    \n",
    "    for container in containers:\n",
    "        container.stop()\n",
    "        print(f\"Waiting for {container.name} to stop...\")\n",
    "        while container.status != 'exited':\n",
    "            pass\n",
    "        \n",
    "        container.reload()\n",
    "        if container.status == 'exited':\n",
    "            print(f\"Removing {container.name}\")\n",
    "            container.remove()\n",
    "\n",
    "list_running_containers()\n",
    "\n",
    "clean_containers()\n"
   ]
  },
  {
   "cell_type": "markdown",
   "id": "083fe448-2d62-42cc-a4bc-f9b96343bd0f",
   "metadata": {},
   "source": [
    "## Setting up the network"
   ]
  },
  {
   "cell_type": "code",
   "execution_count": null,
   "id": "9c67866b-8c5a-4d3f-8616-23981e020e7e",
   "metadata": {},
   "outputs": [
    {
     "name": "stdout",
     "output_type": "stream",
     "text": [
      "431d092aa909f50dab25f1d2dc5eef9c97b516314e2bb79519d8198541843e8c\n"
     ]
    }
   ],
   "source": [
    "# Create a network called yourNetwork using the following command\n",
    "\n",
    "!docker network create yourNetwork"
   ]
  },
  {
   "cell_type": "code",
   "execution_count": null,
   "id": "98f9b37a-eeca-4c94-b793-67be3c732783",
   "metadata": {},
   "outputs": [
    {
     "name": "stdout",
     "output_type": "stream",
     "text": [
      "[\n",
      "    {\n",
      "        \"Name\": \"yourNetwork\",\n",
      "        \"Id\": \"431d092aa909f50dab25f1d2dc5eef9c97b516314e2bb79519d8198541843e8c\",\n",
      "        \"Created\": \"2025-04-18T14:36:24.265817696-07:00\",\n",
      "        \"Scope\": \"local\",\n",
      "        \"Driver\": \"bridge\",\n",
      "        \"EnableIPv6\": false,\n",
      "        \"IPAM\": {\n",
      "            \"Driver\": \"default\",\n",
      "            \"Options\": {},\n",
      "            \"Config\": [\n",
      "                {\n",
      "                    \"Subnet\": \"172.18.0.0/16\",\n",
      "                    \"Gateway\": \"172.18.0.1\"\n",
      "                }\n",
      "            ]\n",
      "        },\n",
      "        \"Internal\": false,\n",
      "        \"Attachable\": false,\n",
      "        \"Ingress\": false,\n",
      "        \"ConfigFrom\": {\n",
      "            \"Network\": \"\"\n",
      "        },\n",
      "        \"ConfigOnly\": false,\n",
      "        \"Containers\": {},\n",
      "        \"Options\": {},\n",
      "        \"Labels\": {}\n",
      "    }\n",
      "]\n"
     ]
    }
   ],
   "source": [
    "!docker network inspect yourNetwork"
   ]
  },
  {
   "cell_type": "code",
   "execution_count": null,
   "id": "c60b5acb-99e9-42dd-83ff-5f808a1c7223",
   "metadata": {},
   "outputs": [
    {
     "name": "stdout",
     "output_type": "stream",
     "text": [
      "b5bcdf9fdee61ea1de797aa354e1f332c31ff095d1f2390319ff36f7fc36397b\n"
     ]
    }
   ],
   "source": [
    "!docker run -d --network yourNetwork --name mysql -p 3306:3306 -e MYSQL_ROOT_PASSWORD=1 mysql:8\n"
   ]
  },
  {
   "cell_type": "code",
   "execution_count": null,
   "id": "071b6c18-6c25-45ee-bddb-2745386107a7",
   "metadata": {},
   "outputs": [
    {
     "name": "stdout",
     "output_type": "stream",
     "text": [
      "a96cb2039f9ca306043e6584c324b684156f1fca0b19ae63bf4108895642d665\n"
     ]
    }
   ],
   "source": [
    "!docker run -d --network yourNetwork --name adminer -p 8080:8080 adminer"
   ]
  },
  {
   "cell_type": "code",
   "execution_count": null,
   "id": "a5fc6246-b507-4b1f-8b58-1e6f9994177c",
   "metadata": {},
   "outputs": [
    {
     "name": "stdout",
     "output_type": "stream",
     "text": [
      "Error response from daemon: endpoint with name adminer already exists in network yourNetwork\n"
     ]
    }
   ],
   "source": [
    "#Now lets connect the adminer\n",
    "!docker network connect yourNetwork adminer"
   ]
  },
  {
   "cell_type": "code",
   "execution_count": null,
   "id": "7cf0eb53-203c-4492-b5d6-2a79a70b1880",
   "metadata": {},
   "outputs": [
    {
     "name": "stdout",
     "output_type": "stream",
     "text": [
      "            \"IPv6Gateway\": \"\",\n",
      "            \"MacAddress\": \"\",\n",
      "            \"Networks\": {\n",
      "                \"yourNetwork\": {\n",
      "                    \"IPAMConfig\": null,\n",
      "                    \"IPAddress\": \"172.18.0.2\",\n",
      "------------------------------\n"
     ]
    },
    {
     "ename": "NameError",
     "evalue": "name 'show_container_ip' is not defined",
     "output_type": "error",
     "traceback": [
      "\u001b[0;31m---------------------------------------------------------------------------\u001b[0m",
      "\u001b[0;31mNameError\u001b[0m                                 Traceback (most recent call last)",
      "Cell \u001b[0;32mIn[23], line 5\u001b[0m\n\u001b[1;32m      3\u001b[0m \u001b[38;5;66;03m#or\u001b[39;00m\n\u001b[1;32m      4\u001b[0m \u001b[38;5;28mprint\u001b[39m(\u001b[38;5;124m\"\u001b[39m\u001b[38;5;124m-\u001b[39m\u001b[38;5;124m\"\u001b[39m\u001b[38;5;241m*\u001b[39m\u001b[38;5;241m30\u001b[39m)\n\u001b[0;32m----> 5\u001b[0m \u001b[43mshow_container_ip\u001b[49m(\u001b[38;5;124m\"\u001b[39m\u001b[38;5;124mmysql\u001b[39m\u001b[38;5;124m\"\u001b[39m)\n",
      "\u001b[0;31mNameError\u001b[0m: name 'show_container_ip' is not defined"
     ]
    }
   ],
   "source": [
    "!docker inspect mysql |grep -C2 \" \\\"Networks\\\"\"\n",
    "!docker inspect mysql |grep -A9 \" \\\"Networks\\\"\"| grep \" \\\"IPAddress\\\"\"\n",
    "#or\n",
    "print(\"-\"*30)\n",
    "show_container_ip(\"mysql\")"
   ]
  },
  {
   "cell_type": "code",
   "execution_count": null,
   "id": "b992ac2d-0dd7-4111-b7be-b174de9c6bec",
   "metadata": {},
   "outputs": [
    {
     "name": "stdout",
     "output_type": "stream",
     "text": [
      "            \"Networks\": {\n",
      "                \"yourNetwork\": {\n",
      "                    \"IPAMConfig\": null,\n",
      "                    \"IPAddress\": \"172.18.0.3\",\n",
      "PING 172.18.0.3 (172.18.0.3) 56(84) bytes of data.\n",
      "64 bytes from 172.18.0.3: icmp_seq=1 ttl=64 time=0.063 ms\n",
      "\n",
      "--- 172.18.0.3 ping statistics ---\n",
      "1 packets transmitted, 1 received, 0% packet loss, time 0ms\n",
      "rtt min/avg/max/mdev = 0.063/0.063/0.063/0.000 ms\n",
      "------------------------------\n"
     ]
    },
    {
     "ename": "NameError",
     "evalue": "name 'show_container_ip' is not defined",
     "output_type": "error",
     "traceback": [
      "\u001b[0;31m---------------------------------------------------------------------------\u001b[0m",
      "\u001b[0;31mNameError\u001b[0m                                 Traceback (most recent call last)",
      "Cell \u001b[0;32mIn[27], line 6\u001b[0m\n\u001b[1;32m      4\u001b[0m \u001b[38;5;66;03m#or\u001b[39;00m\n\u001b[1;32m      5\u001b[0m \u001b[38;5;28mprint\u001b[39m(\u001b[38;5;124m\"\u001b[39m\u001b[38;5;124m-\u001b[39m\u001b[38;5;124m\"\u001b[39m\u001b[38;5;241m*\u001b[39m\u001b[38;5;241m30\u001b[39m)\n\u001b[0;32m----> 6\u001b[0m \u001b[43mshow_container_ip\u001b[49m(\u001b[38;5;124m\"\u001b[39m\u001b[38;5;124madminer\u001b[39m\u001b[38;5;124m\"\u001b[39m)\n",
      "\u001b[0;31mNameError\u001b[0m: name 'show_container_ip' is not defined"
     ]
    }
   ],
   "source": [
    "!docker inspect adminer| grep -A2 \" \\\"Networks\\\"\"\n",
    "!docker inspect adminer| grep -A9 \" \\\"Networks\\\"\"| grep \" \\\"IPAddress\\\"\"\n",
    "!ping -c 1 172.18.0.3\n",
    "#or\n",
    "print(\"-\"*30)\n",
    "show_container_ip(\"adminer\")"
   ]
  },
  {
   "cell_type": "markdown",
   "id": "b6371541-7400-4de9-8274-4784ce7ca815",
   "metadata": {},
   "source": [
    "# LAB \n",
    "As a reminder you should be submitting to me 2 files. \n",
    "- _YourName_Lab 09.ipynb\n",
    "    - this is your lab report\n",
    "- _YourName__\\<name of your script\\>.py\n",
    "\n",
    "## Part 1 - warm up\n",
    "\n",
    "Now that you have 2 containers up and running and know there connected. Create a python script that will check to see if the IP addresses of the containers are up and running. \n",
    "\n"
   ]
  },
  {
   "cell_type": "code",
   "execution_count": null,
   "id": "c7dd0f35",
   "metadata": {},
   "outputs": [],
   "source": []
  },
  {
   "cell_type": "markdown",
   "id": "8118578f",
   "metadata": {},
   "source": [
    "\n",
    "## Part 2\n",
    "Continue with the above code and create a script that will:\n",
    "- Relaunch a container if it is ever shutdown. \n",
    "- Perform a maintenance restart after 1 day has passed. \n",
    "- Monitor the log files and outputs errors and warnings.\n",
    "\n",
    "your python file does not need to be in a docker container\n",
    "\n",
    "\n",
    "https://docs.docker.com/engine/api/sdk/examples/\n",
    "\n"
   ]
  },
  {
   "cell_type": "code",
   "execution_count": null,
   "id": "da809287-9d9a-4c74-8608-98eeef8a4924",
   "metadata": {},
   "outputs": [],
   "source": []
  }
 ],
 "metadata": {
  "kernelspec": {
   "display_name": "base",
   "language": "python",
   "name": "python3"
  },
  "language_info": {
   "codemirror_mode": {
    "name": "ipython",
    "version": 3
   },
   "file_extension": ".py",
   "mimetype": "text/x-python",
   "name": "python",
   "nbconvert_exporter": "python",
   "pygments_lexer": "ipython3",
   "version": "3.12.7"
  }
 },
 "nbformat": 4,
 "nbformat_minor": 5
}
