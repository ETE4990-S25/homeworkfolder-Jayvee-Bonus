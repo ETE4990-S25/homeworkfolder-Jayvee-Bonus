{
 "cells": [
  {
   "cell_type": "markdown",
   "id": "5e447dac-da84-4169-8796-3917ed6d8103",
   "metadata": {},
   "source": [
    "# Lab 9\n",
    "Understanding Docker Networks\n",
    "\n",
    "What is Container Networking?\n",
    "Container networking also called Software Defined Networking (SDN) is what allows Docker networkgin subsystems to work. \n",
    "\n",
    "Some defalt Docker Netwrok drivers are:\n",
    "- Bridge\n",
    "    - a Network that is User-defined to allow for all containers connected on the same network to communicate with eachother. \n",
    "- Host\n",
    "    - a container is attahed to a Docker host. Any traffic routed to the container must be routed from the host system.\n",
    "- Overlay\n",
    "    - Created in a network spanning multiple docker hosts. Think each of your docker containers in the lab talking to eachother\n",
    "- Macvlan\n",
    "    - used in complicated networking to assing logical addresses based on MAC addresses to the virtual network interfaces making it apear as if the container has a physical network interaface connected to the network. Used in legacy applications.\n",
    "- None\n",
    "    -  the container only has a loopback interface so it can talk to itself.\n",
    "\n"
   ]
  },
  {
   "cell_type": "markdown",
   "id": "6c1971a0-cbb0-4889-bf10-59d6f08cb1ec",
   "metadata": {},
   "source": [
    "# Part 1 - networking"
   ]
  },
  {
   "cell_type": "code",
   "execution_count": 1,
   "id": "6acffbb4-8220-4bf2-bed2-15113dad9621",
   "metadata": {},
   "outputs": [
    {
     "name": "stdout",
     "output_type": "stream",
     "text": [
      "3985c4706df2fed6d1aa01bd6a68cfb4da0e08896cf92019a8aa360bf2d8b845\n"
     ]
    }
   ],
   "source": [
    "!docker run -d --name nginx2 --network=none -p 81:81 nginx"
   ]
  },
  {
   "cell_type": "markdown",
   "id": "2d98e870-0a17-4c39-bd13-01e33efb6968",
   "metadata": {},
   "source": [
    "we now have an nginx container "
   ]
  },
  {
   "cell_type": "code",
   "execution_count": 2,
   "id": "bf176171-5f9f-4ac7-9286-425a76eb8305",
   "metadata": {},
   "outputs": [
    {
     "name": "stderr",
     "output_type": "stream",
     "text": [
      "  % Total    % Received % Xferd  Average Speed   Time    Time     Time  Current\n",
      "                                 Dload  Upload   Total   Spent    Left  Speed\n",
      "\n",
      "  0     0    0     0    0     0      0      0 --:--:-- --:--:-- --:--:--     0\n",
      "  0     0    0     0    0     0      0      0 --:--:--  0:00:01 --:--:--     0\n",
      "  0     0    0     0    0     0      0      0 --:--:--  0:00:02 --:--:--     0\n",
      "  0     0    0     0    0     0      0      0 --:--:--  0:00:02 --:--:--     0\n",
      "curl: (7) Failed to connect to localhost port 80 after 2258 ms: Could not connect to server\n"
     ]
    }
   ],
   "source": [
    "!curl localhost"
   ]
  },
  {
   "cell_type": "code",
   "execution_count": 3,
   "id": "7d5e5d9d-447c-42fe-8001-32558b74c99f",
   "metadata": {},
   "outputs": [
    {
     "name": "stderr",
     "output_type": "stream",
     "text": [
      "Error response from daemon: No such container: nginx\n"
     ]
    }
   ],
   "source": [
    "!docker exec -it nginx /bin/sh -c \"curl google.com\"\n",
    "\n"
   ]
  },
  {
   "cell_type": "markdown",
   "id": "9ce3c2a3-94d5-4a41-9ade-d7547f0bf620",
   "metadata": {},
   "source": [
    "As you can see the nginx container can not talk to google.com\n",
    "\n",
    "Docker comes with a subcommand for handling Docker networks. To get started, try the following command:"
   ]
  },
  {
   "cell_type": "code",
   "execution_count": 4,
   "id": "525d321d-03b1-40d5-900a-dea58424f8c7",
   "metadata": {},
   "outputs": [
    {
     "name": "stderr",
     "output_type": "stream",
     "text": [
      "Usage:  docker network COMMAND\n",
      "\n",
      "Manage networks\n",
      "\n",
      "Commands:\n",
      "  connect     Connect a container to a network\n",
      "  create      Create a network\n",
      "  disconnect  Disconnect a container from a network\n",
      "  inspect     Display detailed information on one or more networks\n",
      "  ls          List networks\n",
      "  prune       Remove all unused networks\n",
      "  rm          Remove one or more networks\n",
      "\n",
      "Run 'docker network COMMAND --help' for more information on a command.\n"
     ]
    }
   ],
   "source": [
    "!docker network"
   ]
  },
  {
   "cell_type": "code",
   "execution_count": 5,
   "id": "0b43ead8-1577-43d7-b877-f6e3868e861f",
   "metadata": {},
   "outputs": [
    {
     "name": "stderr",
     "output_type": "stream",
     "text": [
      "docker: 'docker network ls' accepts no arguments\n",
      "\n",
      "Usage:  docker network ls [OPTIONS]\n",
      "\n",
      "Run 'docker network ls --help' for more information\n"
     ]
    }
   ],
   "source": [
    "!docker network ls # see what networks are avalable"
   ]
  },
  {
   "cell_type": "code",
   "execution_count": 6,
   "id": "42b70960-d6ad-45b7-90ec-086ecfaa3fcf",
   "metadata": {},
   "outputs": [
    {
     "name": "stderr",
     "output_type": "stream",
     "text": [
      "Error response from daemon: network # not found\n",
      "Error response from daemon: network note not found\n",
      "Error response from daemon: network the not found\n",
      "Error response from daemon: network nginx not found\n"
     ]
    },
    {
     "name": "stdout",
     "output_type": "stream",
     "text": [
      "[\n",
      "    {\n",
      "        \"Name\": \"none\",\n",
      "        \"Id\": \"ef5b222716f397a8f469d0c7443ca384ed14e51768fc3ec44a2893e30356df66\",\n",
      "        \"Created\": \"2025-04-07T01:48:55.336663273Z\",\n",
      "        \"Scope\": \"local\",\n",
      "        \"Driver\": \"null\",\n",
      "        \"EnableIPv4\": true,\n",
      "        \"EnableIPv6\": false,\n",
      "        \"IPAM\": {\n",
      "            \"Driver\": \"default\",\n",
      "            \"Options\": null,\n",
      "            \"Config\": null\n",
      "        },\n",
      "        \"Internal\": false,\n",
      "        \"Attachable\": false,\n",
      "        \"Ingress\": false,\n",
      "        \"ConfigFrom\": {\n",
      "            \"Network\": \"\"\n",
      "        },\n",
      "        \"ConfigOnly\": false,\n",
      "        \"Containers\": {\n",
      "            \"3985c4706df2fed6d1aa01bd6a68cfb4da0e08896cf92019a8aa360bf2d8b845\": {\n",
      "                \"Name\": \"nginx2\",\n",
      "                \"EndpointID\": \"eb88e5dc1622aca1c7d239b263ce789b67a90c8b87103f015629a80dc92f59dc\",\n",
      "                \"MacAddress\": \"\",\n",
      "                \"IPv4Address\": \"\",\n",
      "                \"IPv6Address\": \"\"\n",
      "            }\n",
      "        },\n",
      "        \"Options\": {},\n",
      "        \"Labels\": {}\n",
      "    }\n",
      "]\n"
     ]
    }
   ],
   "source": [
    "!docker network inspect none # note the nginx"
   ]
  },
  {
   "cell_type": "code",
   "execution_count": 7,
   "id": "8689fe8e-6afa-48a1-9c86-e05cf5f0ad51",
   "metadata": {},
   "outputs": [
    {
     "name": "stderr",
     "output_type": "stream",
     "text": [
      "docker: Error response from daemon: Conflict. The container name \"/mysql\" is already in use by container \"443f7ff4af56184926c4637e0d976a6b7026bf52a7478ba8ad9afac6f214ecc6\". You have to remove (or rename) that container to be able to reuse that name.\n",
      "\n",
      "Run 'docker run --help' for more information\n"
     ]
    },
    {
     "name": "stdout",
     "output_type": "stream",
     "text": [
      "^C\n"
     ]
    }
   ],
   "source": [
    "#setup another conainer for mysql\n",
    "!docker run -d --name mysql -p 3306:3306 -e MYSQL_ROOT_PASSWORD=1 mysql:8\n",
    "#Note the -d means detached mode so no container is using created just the MySQL database \n",
    "!docker logs -f mysql"
   ]
  },
  {
   "cell_type": "markdown",
   "id": "b312951a-708d-4e69-80b7-9d37b5bd10fc",
   "metadata": {},
   "source": [
    "## The following needs to be run in the terminal"
   ]
  },
  {
   "cell_type": "code",
   "execution_count": null,
   "id": "c1b77a0a-53a2-44a7-af22-8a4113d80666",
   "metadata": {},
   "outputs": [
    {
     "name": "stderr",
     "output_type": "stream",
     "text": [
      "docker: Error response from daemon: Conflict. The container name \"/adminer\" is already in use by container \"11eaeb5a4eb5b303320bf7e5964ffb5b07f82df0ff8190da993bf36e19fcc063\". You have to remove (or rename) that container to be able to reuse that name.\n",
      "\n",
      "Run 'docker run --help' for more information\n"
     ]
    }
   ],
   "source": [
    "!docker run -d --name adminer -p 8080:8080 adminer\n"
   ]
  },
  {
   "cell_type": "code",
   "execution_count": null,
   "id": "3dcfd4e3-a373-4341-8caa-bb8ea81dbb9a",
   "metadata": {},
   "outputs": [
    {
     "name": "stderr",
     "output_type": "stream",
     "text": [
      "[Sat Apr 19 04:33:13 2025] PHP 8.4.6 Development Server (http://[::]:8080) started\n",
      "[Sat Apr 19 04:33:27 2025] [::ffff:172.17.0.1]:41058 Accepted\n",
      "[Sat Apr 19 04:33:27 2025] [::ffff:172.17.0.1]:41058 [200]: GET /\n",
      "[Sat Apr 19 04:33:27 2025] [::ffff:172.17.0.1]:41058 Closing\n",
      "[Sat Apr 19 04:33:27 2025] [::ffff:172.17.0.1]:41066 Accepted\n",
      "[Sat Apr 19 04:33:27 2025] [::ffff:172.17.0.1]:41066 [200]: GET /?file=default.css&version=5.2.1\n",
      "[Sat Apr 19 04:33:27 2025] [::ffff:172.17.0.1]:41066 Closing\n",
      "[Sat Apr 19 04:33:27 2025] [::ffff:172.17.0.1]:41076 Accepted\n",
      "[Sat Apr 19 04:33:27 2025] [::ffff:172.17.0.1]:41080 Accepted\n",
      "[Sat Apr 19 04:33:27 2025] [::ffff:172.17.0.1]:41076 [200]: GET /?file=dark.css&version=5.2.1\n",
      "[Sat Apr 19 04:33:27 2025] [::ffff:172.17.0.1]:41076 Closing\n",
      "[Sat Apr 19 04:33:27 2025] [::ffff:172.17.0.1]:41080 [200]: GET /?file=functions.js&version=5.2.1\n",
      "[Sat Apr 19 04:33:27 2025] [::ffff:172.17.0.1]:41080 Closing\n",
      "[Sat Apr 19 04:33:27 2025] [::ffff:172.17.0.1]:41084 Accepted\n",
      "[Sat Apr 19 04:33:27 2025] [::ffff:172.17.0.1]:41084 [200]: GET /?file=logo.png&version=5.2.1\n",
      "[Sat Apr 19 04:33:27 2025] [::ffff:172.17.0.1]:41084 Closing\n",
      "[Sat Apr 19 04:33:28 2025] [::ffff:172.17.0.1]:41100 Accepted\n",
      "[Sat Apr 19 04:33:28 2025] [::ffff:172.17.0.1]:41100 [200]: POST /?script=version\n",
      "[Sat Apr 19 04:33:28 2025] [::ffff:172.17.0.1]:41100 Closing\n",
      "[Sat Apr 19 04:34:56 2025] [::ffff:172.17.0.1]:46528 Accepted\n",
      "[Sat Apr 19 04:34:56 2025] [::ffff:172.17.0.1]:46528 [200]: GET /\n",
      "[Sat Apr 19 04:34:56 2025] [::ffff:172.17.0.1]:46528 Closing\n",
      "[Sat Apr 19 04:34:56 2025] [::ffff:172.17.0.1]:46534 Accepted\n",
      "[Sat Apr 19 04:35:49 2025] [::ffff:172.17.0.1]:46534 [302]: POST /\n",
      "[Sat Apr 19 04:35:49 2025] [::ffff:172.17.0.1]:46534 Closing\n",
      "[Sat Apr 19 04:35:49 2025] [::ffff:172.17.0.1]:53284 Accepted\n",
      "[Sat Apr 19 04:35:53 2025] [::ffff:172.17.0.1]:53284 [403]: GET /?server=db&username=&db=msql\n",
      "[Sat Apr 19 04:35:53 2025] [::ffff:172.17.0.1]:53284 Closing\n",
      "[Sat Apr 19 04:36:35 2025] [::ffff:172.17.0.1]:37386 Accepted\n",
      "[Sat Apr 19 04:36:35 2025] [::ffff:172.17.0.1]:37400 Accepted\n",
      "[Sat Apr 19 04:37:37 2025] [::ffff:172.17.0.1]:37386 Closed without sending a request; it was probably just an unused speculative preconnection\n",
      "[Sat Apr 19 04:37:37 2025] [::ffff:172.17.0.1]:37386 Closing\n",
      "[Sat Apr 19 04:37:37 2025] [::ffff:172.17.0.1]:37400 Closed without sending a request; it was probably just an unused speculative preconnection\n",
      "[Sat Apr 19 04:37:37 2025] [::ffff:172.17.0.1]:37400 Closing\n",
      "[Sat Apr 19 04:37:39 2025] [::ffff:172.17.0.1]:40656 Accepted\n",
      "[Sat Apr 19 04:37:39 2025] [::ffff:172.17.0.1]:40656 [302]: POST /?server=db&username=&db=msql\n",
      "[Sat Apr 19 04:37:39 2025] [::ffff:172.17.0.1]:40656 Closing\n",
      "[Sat Apr 19 04:37:39 2025] [::ffff:172.17.0.1]:40670 Accepted\n",
      "[Sat Apr 19 04:37:43 2025] [::ffff:172.17.0.1]:40670 [403]: GET /?server=db&username=&db=mysql\n",
      "[Sat Apr 19 04:37:43 2025] [::ffff:172.17.0.1]:40670 Closing\n",
      "[Sat Apr 19 04:37:50 2025] [::ffff:172.17.0.1]:50810 Accepted\n",
      "[Sat Apr 19 04:37:50 2025] [::ffff:172.17.0.1]:50810 [302]: POST /?server=db&username=&db=mysql\n",
      "[Sat Apr 19 04:37:50 2025] [::ffff:172.17.0.1]:50810 Closing\n",
      "[Sat Apr 19 04:37:50 2025] [::ffff:172.17.0.1]:35606 Accepted\n",
      "[Sat Apr 19 04:37:54 2025] [::ffff:172.17.0.1]:35606 [403]: GET /?server=db&username=&db=mysql\n",
      "[Sat Apr 19 04:37:54 2025] [::ffff:172.17.0.1]:35606 Closing\n",
      "[Sat Apr 19 04:39:29 2025] [::ffff:172.17.0.1]:44864 Accepted\n",
      "[Sat Apr 19 04:39:29 2025] [::ffff:172.17.0.1]:44864 [302]: POST /?server=db&username=&db=mysql\n",
      "[Sat Apr 19 04:39:29 2025] [::ffff:172.17.0.1]:44864 Closing\n",
      "[Sat Apr 19 04:39:29 2025] [::ffff:172.17.0.1]:44872 Accepted\n",
      "[Sat Apr 19 04:39:29 2025] [::ffff:172.17.0.1]:44872 [403]: GET /?server=localhost&username=&db=mysql\n",
      "[Sat Apr 19 04:39:29 2025] [::ffff:172.17.0.1]:44872 Closing\n",
      "[Sat Apr 19 04:39:32 2025] [::ffff:172.17.0.1]:41624 Accepted\n",
      "[Sat Apr 19 04:39:32 2025] [::ffff:172.17.0.1]:41624 [302]: POST /?server=localhost&username=&db=mysql\n",
      "[Sat Apr 19 04:39:32 2025] [::ffff:172.17.0.1]:41624 Closing\n",
      "[Sat Apr 19 04:39:32 2025] [::ffff:172.17.0.1]:41628 Accepted\n",
      "[Sat Apr 19 04:39:36 2025] [::ffff:172.17.0.1]:41628 [403]: GET /?server=db&username=&db=mysql\n",
      "[Sat Apr 19 04:39:36 2025] [::ffff:172.17.0.1]:41628 Closing\n",
      "[Sat Apr 19 04:39:36 2025] [::ffff:172.17.0.1]:41636 Accepted\n",
      "[Sat Apr 19 04:39:36 2025] [::ffff:172.17.0.1]:41652 Accepted\n",
      "[Sat Apr 19 04:39:36 2025] [::ffff:172.17.0.1]:41636 [302]: POST /?server=localhost&username=&db=mysql\n",
      "[Sat Apr 19 04:39:36 2025] [::ffff:172.17.0.1]:41636 Closing\n",
      "[Sat Apr 19 04:39:40 2025] [::ffff:172.17.0.1]:41652 [403]: GET /?server=db&username=&db=mysql\n",
      "[Sat Apr 19 04:39:40 2025] [::ffff:172.17.0.1]:41652 Closing\n",
      "[Sat Apr 19 04:40:02 2025] [::ffff:172.17.0.1]:38388 Accepted\n",
      "[Sat Apr 19 04:40:02 2025] [::ffff:172.17.0.1]:38388 [302]: POST /?server=db&username=&db=mysql\n",
      "[Sat Apr 19 04:40:02 2025] [::ffff:172.17.0.1]:38388 Closing\n",
      "[Sat Apr 19 04:40:02 2025] [::ffff:172.17.0.1]:38398 Accepted\n",
      "[Sat Apr 19 04:40:06 2025] [::ffff:172.17.0.1]:38398 [403]: GET /?server=adminer&username=&db=mysql\n",
      "[Sat Apr 19 04:40:06 2025] [::ffff:172.17.0.1]:38398 Closing\n",
      "[Sat Apr 19 04:40:23 2025] [::ffff:172.17.0.1]:56008 Accepted\n",
      "[Sat Apr 19 04:40:23 2025] [::ffff:172.17.0.1]:56008 [302]: POST /?server=adminer&username=&db=mysql\n",
      "[Sat Apr 19 04:40:23 2025] [::ffff:172.17.0.1]:56008 Closing\n",
      "[Sat Apr 19 04:40:23 2025] [::ffff:172.17.0.1]:56016 Accepted\n",
      "[Sat Apr 19 04:40:27 2025] [::ffff:172.17.0.1]:56016 [403]: GET /?server=d&username=&db=mysql\n",
      "[Sat Apr 19 04:40:27 2025] [::ffff:172.17.0.1]:56016 Closing\n",
      "[Sat Apr 19 04:41:41 2025] [::ffff:172.17.0.1]:42716 Accepted\n",
      "[Sat Apr 19 04:41:41 2025] [::ffff:172.17.0.1]:42716 [302]: POST /?server=d&username=&db=mysql\n",
      "[Sat Apr 19 04:41:41 2025] [::ffff:172.17.0.1]:42716 Closing\n",
      "[Sat Apr 19 04:41:41 2025] [::ffff:172.17.0.1]:42728 Accepted\n",
      "[Sat Apr 19 04:41:45 2025] [::ffff:172.17.0.1]:42728 [403]: GET /?server=jb&username=&db=mysql\n",
      "[Sat Apr 19 04:41:45 2025] [::ffff:172.17.0.1]:42728 Closing\n",
      "[Sat Apr 19 04:41:58 2025] [::ffff:172.17.0.1]:35994 Accepted\n",
      "[Sat Apr 19 04:41:58 2025] [::ffff:172.17.0.1]:35994 [302]: POST /?server=jb&username=&db=mysql\n",
      "[Sat Apr 19 04:41:58 2025] [::ffff:172.17.0.1]:35994 Closing\n",
      "[Sat Apr 19 04:41:58 2025] [::ffff:172.17.0.1]:36000 Accepted\n",
      "[Sat Apr 19 04:42:02 2025] [::ffff:172.17.0.1]:36000 [403]: GET /?server=DB&username=&db=mysql\n",
      "[Sat Apr 19 04:42:02 2025] [::ffff:172.17.0.1]:36000 Closing\n",
      "[Sat Apr 19 04:42:41 2025] [::ffff:172.17.0.1]:59922 Accepted\n",
      "[Sat Apr 19 04:42:41 2025] [::ffff:172.17.0.1]:59922 [302]: POST /?server=DB&username=&db=mysql\n",
      "[Sat Apr 19 04:42:41 2025] [::ffff:172.17.0.1]:59922 Closing\n",
      "[Sat Apr 19 04:42:41 2025] [::ffff:172.17.0.1]:59934 Accepted\n",
      "[Sat Apr 19 04:42:45 2025] [::ffff:172.17.0.1]:59934 [403]: GET /?server=mysql&username=&db=mysql\n",
      "[Sat Apr 19 04:42:45 2025] [::ffff:172.17.0.1]:59934 Closing\n",
      "[Sat Apr 19 04:43:12 2025] [::ffff:172.17.0.1]:49578 Accepted\n",
      "[Sat Apr 19 04:43:12 2025] [::ffff:172.17.0.1]:49578 [302]: POST /?server=mysql&username=&db=mysql\n",
      "[Sat Apr 19 04:43:12 2025] [::ffff:172.17.0.1]:49578 Closing\n",
      "[Sat Apr 19 04:43:12 2025] [::ffff:172.17.0.1]:49592 Accepted\n",
      "[Sat Apr 19 04:43:16 2025] [::ffff:172.17.0.1]:49592 [403]: GET /?server=pe&username=&db=mysql\n",
      "[Sat Apr 19 04:43:16 2025] [::ffff:172.17.0.1]:49592 Closing\n",
      "[Sat Apr 19 04:43:31 2025] [::ffff:172.17.0.1]:42200 Accepted\n",
      "[Sat Apr 19 04:43:31 2025] [::ffff:172.17.0.1]:42200 [302]: POST /?server=pe&username=&db=mysql\n",
      "[Sat Apr 19 04:43:31 2025] [::ffff:172.17.0.1]:42200 Closing\n",
      "[Sat Apr 19 04:43:31 2025] [::ffff:172.17.0.1]:42204 Accepted\n",
      "[Sat Apr 19 04:43:31 2025] [::ffff:172.17.0.1]:42204 [403]: GET /?server=3306&username=&db=mysql\n",
      "[Sat Apr 19 04:43:31 2025] [::ffff:172.17.0.1]:42204 Closing\n",
      "[Sat Apr 19 04:43:33 2025] [::ffff:172.17.0.1]:42210 Accepted\n",
      "[Sat Apr 19 04:43:33 2025] [::ffff:172.17.0.1]:42210 [302]: POST /?server=3306&username=&db=mysql\n",
      "[Sat Apr 19 04:43:33 2025] [::ffff:172.17.0.1]:42210 Closing\n",
      "[Sat Apr 19 04:43:33 2025] [::ffff:172.17.0.1]:42220 Accepted\n",
      "[Sat Apr 19 04:43:33 2025] [::ffff:172.17.0.1]:42220 [403]: GET /?server=3306&username=&db=mysql\n",
      "[Sat Apr 19 04:43:33 2025] [::ffff:172.17.0.1]:42220 Closing\n",
      "[Sat Apr 19 04:43:33 2025] [::ffff:172.17.0.1]:42224 Accepted\n",
      "[Sat Apr 19 04:43:33 2025] [::ffff:172.17.0.1]:42224 [302]: POST /?server=3306&username=&db=mysql\n",
      "[Sat Apr 19 04:43:33 2025] [::ffff:172.17.0.1]:42224 Closing\n",
      "[Sat Apr 19 04:43:33 2025] [::ffff:172.17.0.1]:42226 Accepted\n",
      "[Sat Apr 19 04:43:34 2025] [::ffff:172.17.0.1]:42226 [403]: GET /?server=3306&username=&db=mysql\n",
      "[Sat Apr 19 04:43:34 2025] [::ffff:172.17.0.1]:42226 Closing\n",
      "[Sat Apr 19 04:43:40 2025] [::ffff:172.17.0.1]:42238 Accepted\n",
      "[Sat Apr 19 04:43:40 2025] [::ffff:172.17.0.1]:42238 [302]: POST /?server=3306&username=&db=mysql\n",
      "[Sat Apr 19 04:43:40 2025] [::ffff:172.17.0.1]:42238 Closing\n",
      "[Sat Apr 19 04:43:40 2025] [::ffff:172.17.0.1]:42240 Accepted\n",
      "[Sat Apr 19 04:43:40 2025] [::ffff:172.17.0.1]:42240 [403]: GET /?server=3306%3A3306&username=&db=mysql\n",
      "[Sat Apr 19 04:43:40 2025] [::ffff:172.17.0.1]:42240 Closing\n",
      "[Sat Apr 19 04:43:47 2025] [::ffff:172.17.0.1]:41788 Accepted\n",
      "[Sat Apr 19 04:43:47 2025] [::ffff:172.17.0.1]:41788 [302]: POST /?server=3306%3A3306&username=&db=mysql\n",
      "[Sat Apr 19 04:43:47 2025] [::ffff:172.17.0.1]:41788 Closing\n",
      "[Sat Apr 19 04:43:47 2025] [::ffff:172.17.0.1]:41794 Accepted\n",
      "[Sat Apr 19 04:43:51 2025] [::ffff:172.17.0.1]:41794 [403]: GET /?server=e&username=&db=mysql\n",
      "[Sat Apr 19 04:43:51 2025] [::ffff:172.17.0.1]:41794 Closing\n",
      "[Sat Apr 19 04:43:56 2025] [::ffff:172.17.0.1]:39252 Accepted\n",
      "[Sat Apr 19 04:43:56 2025] [::ffff:172.17.0.1]:39252 [302]: POST /?server=e&username=&db=mysql\n",
      "[Sat Apr 19 04:43:56 2025] [::ffff:172.17.0.1]:39252 Closing\n",
      "[Sat Apr 19 04:43:56 2025] [::ffff:172.17.0.1]:39258 Accepted\n",
      "[Sat Apr 19 04:44:00 2025] [::ffff:172.17.0.1]:39258 [403]: GET /?server=p&username=&db=mysql\n",
      "[Sat Apr 19 04:44:00 2025] [::ffff:172.17.0.1]:39258 Closing\n",
      "[Sat Apr 19 04:44:23 2025] [::ffff:172.17.0.1]:54920 Accepted\n",
      "[Sat Apr 19 04:44:23 2025] [::ffff:172.17.0.1]:54920 [302]: POST /?server=p&username=&db=mysql\n",
      "[Sat Apr 19 04:44:23 2025] [::ffff:172.17.0.1]:54920 Closing\n",
      "[Sat Apr 19 04:44:23 2025] [::ffff:172.17.0.1]:54924 Accepted\n",
      "[Sat Apr 19 04:44:27 2025] [::ffff:172.17.0.1]:54924 [403]: GET /?server=pe&username=8&db=mysql\n",
      "[Sat Apr 19 04:44:27 2025] [::ffff:172.17.0.1]:54924 Closing\n",
      "[Sat Apr 19 04:44:34 2025] [::ffff:172.17.0.1]:45458 Accepted\n",
      "[Sat Apr 19 04:44:34 2025] [::ffff:172.17.0.1]:45458 [302]: POST /?server=pe&username=8&db=mysql\n",
      "[Sat Apr 19 04:44:34 2025] [::ffff:172.17.0.1]:45458 Closing\n",
      "[Sat Apr 19 04:44:34 2025] [::ffff:172.17.0.1]:45470 Accepted\n",
      "[Sat Apr 19 04:44:38 2025] [::ffff:172.17.0.1]:45470 [403]: GET /?server=pe&username=root&db=mysql\n",
      "[Sat Apr 19 04:44:38 2025] [::ffff:172.17.0.1]:45470 Closing\n",
      "[Sat Apr 19 04:45:25 2025] [::ffff:172.17.0.1]:41734 Accepted\n",
      "[Sat Apr 19 04:45:25 2025] [::ffff:172.17.0.1]:41734 [302]: POST /?server=pe&username=root&db=mysql\n",
      "[Sat Apr 19 04:45:25 2025] [::ffff:172.17.0.1]:41734 Closing\n",
      "[Sat Apr 19 04:45:25 2025] [::ffff:172.17.0.1]:41738 Accepted\n",
      "[Sat Apr 19 04:45:29 2025] [::ffff:172.17.0.1]:41738 [403]: GET /?server=dp&username=root&db=mysql\n",
      "[Sat Apr 19 04:45:29 2025] [::ffff:172.17.0.1]:41738 Closing\n",
      "[Sat Apr 19 04:45:33 2025] [::ffff:172.17.0.1]:33312 Accepted\n",
      "[Sat Apr 19 04:45:33 2025] [::ffff:172.17.0.1]:33312 [302]: POST /?server=dp&username=root&db=mysql\n",
      "[Sat Apr 19 04:45:33 2025] [::ffff:172.17.0.1]:33312 Closing\n",
      "[Sat Apr 19 04:45:33 2025] [::ffff:172.17.0.1]:33314 Accepted\n",
      "[Sat Apr 19 04:45:37 2025] [::ffff:172.17.0.1]:33314 [403]: GET /?server=dp&username=root&db=mysql\n",
      "[Sat Apr 19 04:45:37 2025] [::ffff:172.17.0.1]:33314 Closing\n",
      "[Sat Apr 19 04:45:40 2025] [::ffff:172.17.0.1]:33318 Accepted\n",
      "[Sat Apr 19 04:45:40 2025] [::ffff:172.17.0.1]:33318 [302]: POST /?server=dp&username=root&db=mysql\n",
      "[Sat Apr 19 04:45:40 2025] [::ffff:172.17.0.1]:33318 Closing\n",
      "[Sat Apr 19 04:45:40 2025] [::ffff:172.17.0.1]:33334 Accepted\n",
      "[Sat Apr 19 04:45:44 2025] [::ffff:172.17.0.1]:33334 [403]: GET /?server=de&username=root&db=mysql\n",
      "[Sat Apr 19 04:45:44 2025] [::ffff:172.17.0.1]:33334 Closing\n",
      "[Sat Apr 19 04:45:47 2025] [::ffff:172.17.0.1]:56040 Accepted\n",
      "[Sat Apr 19 04:45:47 2025] [::ffff:172.17.0.1]:56040 [302]: POST /?server=de&username=root&db=mysql\n",
      "[Sat Apr 19 04:45:47 2025] [::ffff:172.17.0.1]:56040 Closing\n",
      "[Sat Apr 19 04:45:47 2025] [::ffff:172.17.0.1]:56048 Accepted\n",
      "[Sat Apr 19 04:45:51 2025] [::ffff:172.17.0.1]:56048 [403]: GET /?server=de&username=&db=mysql\n",
      "[Sat Apr 19 04:45:51 2025] [::ffff:172.17.0.1]:56048 Closing\n",
      "[Sat Apr 19 04:46:15 2025] [::ffff:172.17.0.1]:47712 Accepted\n",
      "[Sat Apr 19 04:46:15 2025] [::ffff:172.17.0.1]:47712 [302]: POST /?server=de&username=&db=mysql\n",
      "[Sat Apr 19 04:46:15 2025] [::ffff:172.17.0.1]:47712 Closing\n",
      "[Sat Apr 19 04:46:15 2025] [::ffff:172.17.0.1]:47720 Accepted\n",
      "[Sat Apr 19 04:46:19 2025] [::ffff:172.17.0.1]:47720 [403]: GET /?server=d&username=e&db=mysql\n",
      "[Sat Apr 19 04:46:19 2025] [::ffff:172.17.0.1]:47720 Closing\n",
      "[Sat Apr 19 04:46:23 2025] [::ffff:172.17.0.1]:45246 Accepted\n",
      "[Sat Apr 19 04:46:24 2025] [::ffff:172.17.0.1]:45246 [302]: POST /?server=d&username=e&db=mysql\n",
      "[Sat Apr 19 04:46:24 2025] [::ffff:172.17.0.1]:45246 Closing\n",
      "[Sat Apr 19 04:46:24 2025] [::ffff:172.17.0.1]:45260 Accepted\n",
      "[Sat Apr 19 04:46:27 2025] [::ffff:172.17.0.1]:45260 [403]: GET /?server=d&username=p&db=mysql\n",
      "[Sat Apr 19 04:46:27 2025] [::ffff:172.17.0.1]:45260 Closing\n",
      "[Sat Apr 19 04:46:40 2025] [::ffff:172.17.0.1]:49566 Accepted\n",
      "[Sat Apr 19 04:46:40 2025] [::ffff:172.17.0.1]:49566 [302]: POST /?server=d&username=p&db=mysql\n",
      "[Sat Apr 19 04:46:40 2025] [::ffff:172.17.0.1]:49566 Closing\n",
      "[Sat Apr 19 04:46:40 2025] [::ffff:172.17.0.1]:49568 Accepted\n",
      "[Sat Apr 19 04:46:44 2025] [::ffff:172.17.0.1]:49568 [403]: GET /?server=d&username=p&db=mysql\n",
      "[Sat Apr 19 04:46:44 2025] [::ffff:172.17.0.1]:49568 Closing\n",
      "[Sat Apr 19 04:46:48 2025] [::ffff:172.17.0.1]:41784 Accepted\n",
      "[Sat Apr 19 04:46:49 2025] [::ffff:172.17.0.1]:41784 [302]: POST /?server=d&username=p&db=mysql\n",
      "[Sat Apr 19 04:46:49 2025] [::ffff:172.17.0.1]:41784 Closing\n",
      "[Sat Apr 19 04:46:49 2025] [::ffff:172.17.0.1]:41796 Accepted\n",
      "[Sat Apr 19 04:46:52 2025] [::ffff:172.17.0.1]:41796 [403]: GET /?server=d&username=root&db=mysql\n",
      "[Sat Apr 19 04:46:52 2025] [::ffff:172.17.0.1]:41796 Closing\n",
      "[Sat Apr 19 04:47:09 2025] [::ffff:172.17.0.1]:53620 Accepted\n",
      "[Sat Apr 19 04:47:09 2025] [::ffff:172.17.0.1]:53620 [302]: POST /?server=d&username=root&db=mysql\n",
      "[Sat Apr 19 04:47:09 2025] [::ffff:172.17.0.1]:53620 Closing\n",
      "[Sat Apr 19 04:47:09 2025] [::ffff:172.17.0.1]:53636 Accepted\n",
      "[Sat Apr 19 04:47:13 2025] [::ffff:172.17.0.1]:53636 [403]: GET /?server=mysql&username=d&db=mysql\n",
      "[Sat Apr 19 04:47:13 2025] [::ffff:172.17.0.1]:53636 Closing\n",
      "[Sat Apr 19 04:47:14 2025] [::ffff:172.17.0.1]:33052 Accepted\n",
      "[Sat Apr 19 04:47:14 2025] [::ffff:172.17.0.1]:33052 [302]: POST /?server=mysql&username=d&db=mysql\n",
      "[Sat Apr 19 04:47:14 2025] [::ffff:172.17.0.1]:33052 Closing\n",
      "[Sat Apr 19 04:47:14 2025] [::ffff:172.17.0.1]:33066 Accepted\n",
      "[Sat Apr 19 04:47:17 2025] [::ffff:172.17.0.1]:33066 [403]: GET /?server=mysql&username=d&db=mysql\n",
      "[Sat Apr 19 04:47:17 2025] [::ffff:172.17.0.1]:33066 Closing\n",
      "[Sat Apr 19 04:47:40 2025] [::ffff:172.17.0.1]:52554 Accepted\n",
      "[Sat Apr 19 04:47:40 2025] [::ffff:172.17.0.1]:52554 [302]: POST /?server=mysql&username=d&db=mysql\n",
      "[Sat Apr 19 04:47:40 2025] [::ffff:172.17.0.1]:52554 Closing\n",
      "[Sat Apr 19 04:47:40 2025] [::ffff:172.17.0.1]:52564 Accepted\n",
      "[Sat Apr 19 04:47:40 2025] [::ffff:172.17.0.1]:52564 [403]: GET /?server=8080&username=d&db=mysql\n",
      "[Sat Apr 19 04:47:40 2025] [::ffff:172.17.0.1]:52564 Closing\n",
      "[Sat Apr 19 04:47:53 2025] [::ffff:172.17.0.1]:47552 Accepted\n",
      "[Sat Apr 19 04:47:53 2025] [::ffff:172.17.0.1]:47552 [302]: POST /?server=8080&username=d&db=mysql\n",
      "[Sat Apr 19 04:47:53 2025] [::ffff:172.17.0.1]:47552 Closing\n",
      "[Sat Apr 19 04:47:53 2025] [::ffff:172.17.0.1]:47566 Accepted\n",
      "[Sat Apr 19 04:47:53 2025] [::ffff:172.17.0.1]:47566 [403]: GET /?server=8080&username=&db=mysql\n",
      "[Sat Apr 19 04:47:53 2025] [::ffff:172.17.0.1]:47566 Closing\n"
     ]
    }
   ],
   "source": [
    "!docker logs -f adminer"
   ]
  },
  {
   "cell_type": "code",
   "execution_count": null,
   "id": "d3295ddc-40c8-4dc3-bac5-f449cedd6a1c",
   "metadata": {},
   "outputs": [
    {
     "name": "stderr",
     "output_type": "stream",
     "text": [
      "'grep' is not recognized as an internal or external command,\n",
      "operable program or batch file.\n"
     ]
    }
   ],
   "source": [
    "!docker inspect mysql | grep -n1 \"IPAddress\\\":\"\n"
   ]
  },
  {
   "cell_type": "code",
   "execution_count": null,
   "id": "d245598f-5982-448f-826b-dcf2a02ea142",
   "metadata": {},
   "outputs": [
    {
     "name": "stderr",
     "output_type": "stream",
     "text": [
      "'grep' is not recognized as an internal or external command,\n",
      "operable program or batch file.\n"
     ]
    }
   ],
   "source": [
    "!docker inspect adminer| grep  -n1 \"IPAddress\\\":\""
   ]
  },
  {
   "cell_type": "markdown",
   "id": "083fe448-2d62-42cc-a4bc-f9b96343bd0f",
   "metadata": {},
   "source": [
    "## Creating Named so that other containers can see other containers not just through the host"
   ]
  },
  {
   "cell_type": "code",
   "execution_count": null,
   "id": "0934b4d7-5881-417d-b208-1132756b61f1",
   "metadata": {},
   "outputs": [
    {
     "name": "stderr",
     "output_type": "stream",
     "text": [
      "Error response from daemon: No such container: adminer\n",
      "Error response from daemon: No such container: adminer\n",
      "Error response from daemon: No such container: mysql\n",
      "Error response from daemon: No such container: mysql\n"
     ]
    }
   ],
   "source": [
    "#lets remove our old container\n",
    "!docker stop adminer\n",
    "!docker rm adminer\n",
    "!docker stop mysql\n",
    "!docker rm mysql"
   ]
  },
  {
   "cell_type": "code",
   "execution_count": null,
   "id": "9c67866b-8c5a-4d3f-8616-23981e020e7e",
   "metadata": {},
   "outputs": [
    {
     "name": "stderr",
     "output_type": "stream",
     "text": [
      "Error response from daemon: network with name yourNetwork already exists\n"
     ]
    }
   ],
   "source": [
    "# Create a network called yourNetwork using the following command\n",
    "\n",
    "!docker network create yourNetwork"
   ]
  },
  {
   "cell_type": "code",
   "execution_count": null,
   "id": "98f9b37a-eeca-4c94-b793-67be3c732783",
   "metadata": {},
   "outputs": [
    {
     "name": "stdout",
     "output_type": "stream",
     "text": [
      "[\n",
      "    {\n",
      "        \"Name\": \"yourNetwork\",\n",
      "        \"Id\": \"2c48587edbe5da6904d38ddcad511bbbc6d0696d012b8dce23a209770c9ec02f\",\n",
      "        \"Created\": \"2025-04-28T07:11:34.881620672Z\",\n",
      "        \"Scope\": \"local\",\n",
      "        \"Driver\": \"bridge\",\n",
      "        \"EnableIPv4\": true,\n",
      "        \"EnableIPv6\": false,\n",
      "        \"IPAM\": {\n",
      "            \"Driver\": \"default\",\n",
      "            \"Options\": {},\n",
      "            \"Config\": [\n",
      "                {\n",
      "                    \"Subnet\": \"172.18.0.0/16\",\n",
      "                    \"Gateway\": \"172.18.0.1\"\n",
      "                }\n",
      "            ]\n",
      "        },\n",
      "        \"Internal\": false,\n",
      "        \"Attachable\": false,\n",
      "        \"Ingress\": false,\n",
      "        \"ConfigFrom\": {\n",
      "            \"Network\": \"\"\n",
      "        },\n",
      "        \"ConfigOnly\": false,\n",
      "        \"Containers\": {\n",
      "            \"ep-9c391aaf3c1d45f3e80919e225b329c21bb4919199e0f9549fb5edfc4c87286e\": {\n",
      "                \"Name\": \"mysql\",\n",
      "                \"EndpointID\": \"9c391aaf3c1d45f3e80919e225b329c21bb4919199e0f9549fb5edfc4c87286e\",\n",
      "                \"MacAddress\": \"8e:da:66:2b:61:56\",\n",
      "                \"IPv4Address\": \"172.18.0.2/16\",\n",
      "                \"IPv6Address\": \"\"\n",
      "            }\n",
      "        },\n",
      "        \"Options\": {},\n",
      "        \"Labels\": {}\n",
      "    }\n",
      "]\n"
     ]
    }
   ],
   "source": [
    "!docker network inspect yourNetwork"
   ]
  },
  {
   "cell_type": "code",
   "execution_count": null,
   "id": "c60b5acb-99e9-42dd-83ff-5f808a1c7223",
   "metadata": {},
   "outputs": [
    {
     "name": "stderr",
     "output_type": "stream",
     "text": [
      "docker: Error response from daemon: Conflict. The container name \"/mysql\" is already in use by container \"a2a1e44a8e92d1d8123858b288211f3b5a123055c2bc0616e10c0c5ba7d68bac\". You have to remove (or rename) that container to be able to reuse that name.\n",
      "\n",
      "Run 'docker run --help' for more information\n"
     ]
    }
   ],
   "source": [
    "!docker run -d --network yourNetwork --name mysql -p 3306:3306 -e MYSQL_ROOT_PASSWORD=1 mysql:8\n"
   ]
  },
  {
   "cell_type": "code",
   "execution_count": null,
   "id": "071b6c18-6c25-45ee-bddb-2745386107a7",
   "metadata": {},
   "outputs": [
    {
     "name": "stderr",
     "output_type": "stream",
     "text": [
      "docker: Error response from daemon: Conflict. The container name \"/adminer\" is already in use by container \"01078cc50140de2e5536aba8b10f438ab04eeba3637e5892a28d37c76603545f\". You have to remove (or rename) that container to be able to reuse that name.\n",
      "\n",
      "Run 'docker run --help' for more information\n"
     ]
    }
   ],
   "source": [
    "!docker run -d --network yourNetwork --name adminer -p 8080:8080 adminer"
   ]
  },
  {
   "cell_type": "code",
   "execution_count": null,
   "id": "a5fc6246-b507-4b1f-8b58-1e6f9994177c",
   "metadata": {},
   "outputs": [
    {
     "name": "stderr",
     "output_type": "stream",
     "text": [
      "Error response from daemon: endpoint with name adminer already exists in network yourNetwork\n"
     ]
    }
   ],
   "source": [
    "#Now lets connect the adminer\n",
    "!docker network connect yourNetwork adminer"
   ]
  },
  {
   "cell_type": "code",
   "execution_count": null,
   "id": "7cf0eb53-203c-4492-b5d6-2a79a70b1880",
   "metadata": {},
   "outputs": [
    {
     "name": "stderr",
     "output_type": "stream",
     "text": [
      "'grep' is not recognized as an internal or external command,\n",
      "operable program or batch file.\n"
     ]
    }
   ],
   "source": [
    "!docker inspect mysql2 |grep -C5 \" \\\"Networks\\\"\""
   ]
  },
  {
   "cell_type": "code",
   "execution_count": null,
   "id": "b992ac2d-0dd7-4111-b7be-b174de9c6bec",
   "metadata": {},
   "outputs": [
    {
     "name": "stderr",
     "output_type": "stream",
     "text": [
      "'grep' is not recognized as an internal or external command,\n",
      "operable program or batch file.\n"
     ]
    }
   ],
   "source": [
    "!docker inspect adminer| grep  -C5 \" \\\"Networks\\\"\""
   ]
  },
  {
   "cell_type": "markdown",
   "id": "b6371541-7400-4de9-8274-4784ce7ca815",
   "metadata": {},
   "source": [
    "# Part 2 \n",
    "You will need to do a little digging here and work on your own!\n",
    "\n",
    "Now that you have 2 containers up and running and know there connected. Create a python script that will check to see if the IP addresses of the containers are up and running. \n",
    "\n",
    "\n",
    "# Part 3\n",
    "Continue with the above code and create a script that will relaunch a container if it ever shutsdown. please use the following web page to start your code and understand Docker API.\n",
    "\n",
    "https://docs.docker.com/engine/api/sdk/examples/\n",
    "\n"
   ]
  },
  {
   "cell_type": "code",
   "execution_count": null,
   "id": "da809287-9d9a-4c74-8608-98eeef8a4924",
   "metadata": {},
   "outputs": [
    {
     "name": "stdout",
     "output_type": "stream",
     "text": [
      "mysql IP: 172.18.0.2\n",
      "Ping to mysql (172.18.0.2) failed.\n",
      "adminer IP: 172.18.0.3\n",
      "Ping to adminer (172.18.0.3) failed.\n"
     ]
    }
   ],
   "source": [
    "import docker\n",
    "import subprocess\n",
    "\n",
    "def get_container_ips(container_name):\n",
    "    client = docker.from_env()\n",
    "    ips = {}\n",
    "    for name in container_name:\n",
    "        container = client.containers.get(name)\n",
    "        ip = container.attrs['NetworkSettings']['Networks']['yourNetwork']['IPAddress']\n",
    "        ips[name] = ip\n",
    "    return ips\n",
    "\n",
    "def ping_container(ip):\n",
    "    try:\n",
    "        result = subprocess.run(['ping', '-c', '4', ip], stdout=subprocess.PIPE, stderr=subprocess.PIPE)\n",
    "        if result.returncode == 0:\n",
    "            return True\n",
    "        else:\n",
    "            return False\n",
    "    except Exception as e:\n",
    "        print(f\"Error pinging {ip}: {e}\")\n",
    "        return False\n",
    "    \n",
    "if __name__ == \"__main__\":\n",
    "    container_names = ['mysql', 'adminer']\n",
    "    ips = get_container_ips(container_names)\n",
    "    \n",
    "    for name, ip in ips.items():\n",
    "        print(f\"{name} IP: {ip}\")\n",
    "        if ping_container(ip):\n",
    "            print(f\"Ping to {name} ({ip}) successful.\")\n",
    "        else:\n",
    "            print(f\"Ping to {name} ({ip}) failed.\")\n"
   ]
  },
  {
   "cell_type": "code",
   "execution_count": null,
   "id": "5a8d8e1c",
   "metadata": {},
   "outputs": [
    {
     "name": "stdout",
     "output_type": "stream",
     "text": [
      "Container mysql (172.18.0.2) is down. Attempting to restart...\n",
      "Container adminer (172.18.0.3) is down. Attempting to restart...\n",
      "Container mysql (172.18.0.2) is down. Attempting to restart...\n",
      "Container adminer (172.18.0.3) is down. Attempting to restart...\n"
     ]
    },
    {
     "ename": "KeyboardInterrupt",
     "evalue": "",
     "output_type": "error",
     "traceback": [
      "\u001b[1;31m---------------------------------------------------------------------------\u001b[0m",
      "\u001b[1;31mKeyboardInterrupt\u001b[0m                         Traceback (most recent call last)",
      "Cell \u001b[1;32mIn[66], line 57\u001b[0m\n\u001b[0;32m     55\u001b[0m     \u001b[38;5;28;01melse\u001b[39;00m:\n\u001b[0;32m     56\u001b[0m         \u001b[38;5;28mprint\u001b[39m(\u001b[38;5;124mf\u001b[39m\u001b[38;5;124m\"\u001b[39m\u001b[38;5;124mContainer \u001b[39m\u001b[38;5;132;01m{\u001b[39;00mname\u001b[38;5;132;01m}\u001b[39;00m\u001b[38;5;124m (\u001b[39m\u001b[38;5;132;01m{\u001b[39;00mip\u001b[38;5;132;01m}\u001b[39;00m\u001b[38;5;124m) is up and running.\u001b[39m\u001b[38;5;124m\"\u001b[39m)\n\u001b[1;32m---> 57\u001b[0m time\u001b[38;5;241m.\u001b[39msleep(\u001b[38;5;241m10\u001b[39m)\n",
      "\u001b[1;31mKeyboardInterrupt\u001b[0m: "
     ]
    }
   ],
   "source": [
    "import docker\n",
    "import subprocess  \n",
    "import time\n",
    "\n",
    "def get_container_ips(container_name):\n",
    "    client = docker.from_env()\n",
    "    ips = {}\n",
    "    for name in container_name:\n",
    "        container = client.containers.get(name)\n",
    "        ip = container.attrs['NetworkSettings']['Networks']['yourNetwork']['IPAddress']\n",
    "        ips[name] = ip\n",
    "    return ips\n",
    "\n",
    "def ping_container(ip):\n",
    "    try:\n",
    "        result = subprocess.run(['ping', '-c', '4', ip], stdout=subprocess.PIPE, stderr=subprocess.PIPE)\n",
    "        if result.returncode == 0:\n",
    "            return True\n",
    "        else:\n",
    "            return False\n",
    "    except Exception as e:\n",
    "        print(f\"Error pinging {ip}: {e}\")\n",
    "        return False\n",
    "    \n",
    "def ensure_container_running(container_name):\n",
    "    client = docker.from_env()\n",
    "    try:\n",
    "        container = client.containers.get(container_name)\n",
    "    except docker.errors.NotFound:\n",
    "        print(f\"Container {container_name} not found. Attempting to create it...\")\n",
    "        if container.status != 'running':\n",
    "            print(f\"Container {container_name} is not running. Restarting it...\")\n",
    "            try:\n",
    "                container.restart()\n",
    "                print(f\"Container {container_name} restarted.\")\n",
    "            except Exception as e:\n",
    "                print(f\"Failed to restart container {container_name}: {e}\")\n",
    "        else:\n",
    "            print(f\"Container {container_name} is already running.\")\n",
    "\n",
    "if __name__ == \"__main__\":\n",
    "    try:\n",
    "        container_names = ['mysql', 'adminer']\n",
    "    except Exception as e:\n",
    "        print(f\"An error occurred: {e}\")\n",
    "\n",
    "    while True:\n",
    "        container_ips = get_container_ips(container_names)\n",
    "\n",
    "        for name, ip in container_ips.items():\n",
    "            is_up = ping_container(ip)\n",
    "            if not is_up:\n",
    "                print(f\"Container {name} ({ip}) is down. Attempting to restart...\")\n",
    "                ensure_container_running(name)\n",
    "            else:\n",
    "                print(f\"Container {name} ({ip}) is up and running.\")\n",
    "        time.sleep(10)  # Check every 10 seconds\n",
    "# Note: This code is a simulation and will not run without a Docker daemon.\n"
   ]
  }
 ],
 "metadata": {
  "kernelspec": {
   "display_name": "base",
   "language": "python",
   "name": "python3"
  },
  "language_info": {
   "codemirror_mode": {
    "name": "ipython",
    "version": 3
   },
   "file_extension": ".py",
   "mimetype": "text/x-python",
   "name": "python",
   "nbconvert_exporter": "python",
   "pygments_lexer": "ipython3",
   "version": "3.12.7"
  }
 },
 "nbformat": 4,
 "nbformat_minor": 5
}
