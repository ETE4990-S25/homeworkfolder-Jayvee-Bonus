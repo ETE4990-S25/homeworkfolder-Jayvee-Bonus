{
 "cells": [
  {
   "cell_type": "markdown",
   "id": "5e447dac-da84-4169-8796-3917ed6d8103",
   "metadata": {},
   "source": [
    "# Lab 9\n",
    "Understanding Docker Networks\n",
    "\n",
    "What is Container Networking?\n",
    "Container networking also called Software Defined Networking (SDN) is what allows Docker networkgin subsystems to work. \n",
    "\n",
    "Some defalt Docker Netwrok drivers are:\n",
    "- Bridge\n",
    "    - a Network that is User-defined to allow for all containers connected on the same network to communicate with eachother. \n",
    "- Host\n",
    "    - a container is attahed to a Docker host. Any traffic routed to the container must be routed from the host system.\n",
    "- Overlay\n",
    "    - Created in a network spanning multiple docker hosts. Think each of your docker containers in the lab talking to eachother\n",
    "- Macvlan\n",
    "    - used in complicated networking to assing logical addresses based on MAC addresses to the virtual network interfaces making it apear as if the container has a physical network interaface connected to the network. Used in legacy applications.\n",
    "- None\n",
    "    -  the container only has a loopback interface so it can talk to itself.\n",
    "\n"
   ]
  },
  {
   "cell_type": "markdown",
   "id": "6c1971a0-cbb0-4889-bf10-59d6f08cb1ec",
   "metadata": {},
   "source": [
    "# Part 1 - networking"
   ]
  },
  {
   "cell_type": "code",
   "execution_count": 108,
   "id": "6acffbb4-8220-4bf2-bed2-15113dad9621",
   "metadata": {},
   "outputs": [
    {
     "name": "stdout",
     "output_type": "stream",
     "text": [
      "438822a9b3b506f600624a19599791b7179704b8fafd87d265f0ecbbf21d9528\n"
     ]
    }
   ],
   "source": [
    "!docker run -d --name nginx2 --network=none -p 81:81 nginx"
   ]
  },
  {
   "cell_type": "markdown",
   "id": "2d98e870-0a17-4c39-bd13-01e33efb6968",
   "metadata": {},
   "source": [
    "we now have an nginx container "
   ]
  },
  {
   "cell_type": "code",
   "execution_count": 6,
   "id": "bf176171-5f9f-4ac7-9286-425a76eb8305",
   "metadata": {},
   "outputs": [
    {
     "name": "stdout",
     "output_type": "stream",
     "text": [
      "curl: (7) Failed to connect to localhost port 80 after 0 ms: Couldn't connect to server\n"
     ]
    }
   ],
   "source": [
    "!curl localhost"
   ]
  },
  {
   "cell_type": "code",
   "execution_count": 15,
   "id": "7d5e5d9d-447c-42fe-8001-32558b74c99f",
   "metadata": {},
   "outputs": [
    {
     "name": "stdout",
     "output_type": "stream",
     "text": [
      "curl: (6) Could not resolve host: google.com\n"
     ]
    }
   ],
   "source": [
    "!docker exec -it nginx /bin/sh -c \"curl google.com\"\n",
    "\n"
   ]
  },
  {
   "cell_type": "markdown",
   "id": "9ce3c2a3-94d5-4a41-9ade-d7547f0bf620",
   "metadata": {},
   "source": [
    "As you can see the nginx container can not talk to google.com\n",
    "\n",
    "Docker comes with a subcommand for handling Docker networks. To get started, try the following command:"
   ]
  },
  {
   "cell_type": "code",
   "execution_count": 16,
   "id": "525d321d-03b1-40d5-900a-dea58424f8c7",
   "metadata": {},
   "outputs": [
    {
     "name": "stdout",
     "output_type": "stream",
     "text": [
      "\n",
      "Usage:  docker network COMMAND\n",
      "\n",
      "Manage networks\n",
      "\n",
      "Commands:\n",
      "  connect     Connect a container to a network\n",
      "  create      Create a network\n",
      "  disconnect  Disconnect a container from a network\n",
      "  inspect     Display detailed information on one or more networks\n",
      "  ls          List networks\n",
      "  prune       Remove all unused networks\n",
      "  rm          Remove one or more networks\n",
      "\n",
      "Run 'docker network COMMAND --help' for more information on a command.\n"
     ]
    }
   ],
   "source": [
    "!docker network"
   ]
  },
  {
   "cell_type": "code",
   "execution_count": 109,
   "id": "0b43ead8-1577-43d7-b877-f6e3868e861f",
   "metadata": {},
   "outputs": [
    {
     "name": "stdout",
     "output_type": "stream",
     "text": [
      "NETWORK ID     NAME       DRIVER    SCOPE\n",
      "6d4b4774f6a9   bridge     bridge    local\n",
      "665ff80aad7d   database   bridge    local\n",
      "c5a5ffb553b3   host       host      local\n",
      "8d9ad3b847c5   none       null      local\n"
     ]
    }
   ],
   "source": [
    "!docker network ls # see what networks are avalable"
   ]
  },
  {
   "cell_type": "code",
   "execution_count": 110,
   "id": "42b70960-d6ad-45b7-90ec-086ecfaa3fcf",
   "metadata": {},
   "outputs": [
    {
     "name": "stdout",
     "output_type": "stream",
     "text": [
      "[\n",
      "    {\n",
      "        \"Name\": \"none\",\n",
      "        \"Id\": \"8d9ad3b847c5be2d1a30063903cd890c9a9ac6fa794e58dcbae944e0884516f1\",\n",
      "        \"Created\": \"2023-04-17T19:40:35.58322546Z\",\n",
      "        \"Scope\": \"local\",\n",
      "        \"Driver\": \"null\",\n",
      "        \"EnableIPv6\": false,\n",
      "        \"IPAM\": {\n",
      "            \"Driver\": \"default\",\n",
      "            \"Options\": null,\n",
      "            \"Config\": null\n",
      "        },\n",
      "        \"Internal\": false,\n",
      "        \"Attachable\": false,\n",
      "        \"Ingress\": false,\n",
      "        \"ConfigFrom\": {\n",
      "            \"Network\": \"\"\n",
      "        },\n",
      "        \"ConfigOnly\": false,\n",
      "        \"Containers\": {\n",
      "            \"1e5671b581d1f1b693b2a76f5613922ab271bf48dc53e9681ecfa7934cb41fca\": {\n",
      "                \"Name\": \"nginx\",\n",
      "                \"EndpointID\": \"3a2d34fa7cb019d60190c107908773f5cf5f20d601151be15295ac459aa525ce\",\n",
      "                \"MacAddress\": \"\",\n",
      "                \"IPv4Address\": \"\",\n",
      "                \"IPv6Address\": \"\"\n",
      "            },\n",
      "            \"438822a9b3b506f600624a19599791b7179704b8fafd87d265f0ecbbf21d9528\": {\n",
      "                \"Name\": \"nginx2\",\n",
      "                \"EndpointID\": \"7aed61836f51e9cb47dee18b192cdb85d6782322a61326d2ce1d1e6970c21df7\",\n",
      "                \"MacAddress\": \"\",\n",
      "                \"IPv4Address\": \"\",\n",
      "                \"IPv6Address\": \"\"\n",
      "            }\n",
      "        },\n",
      "        \"Options\": {},\n",
      "        \"Labels\": {}\n",
      "    }\n",
      "]\n"
     ]
    }
   ],
   "source": [
    "!docker network inspect none # note the nginx"
   ]
  },
  {
   "cell_type": "code",
   "execution_count": 111,
   "id": "8689fe8e-6afa-48a1-9c86-e05cf5f0ad51",
   "metadata": {},
   "outputs": [
    {
     "name": "stdout",
     "output_type": "stream",
     "text": [
      "bd7be19c924fd7887bcd3c018ea34a76673cf52475d684f25686314fff083791\n",
      "2024-04-09 02:23:45+00:00 [Note] [Entrypoint]: Entrypoint script for MySQL Server 8.3.0-1.el8 started.\n",
      "2024-04-09 02:23:45+00:00 [Note] [Entrypoint]: Switching to dedicated user 'mysql'\n",
      "2024-04-09 02:23:45+00:00 [Note] [Entrypoint]: Entrypoint script for MySQL Server 8.3.0-1.el8 started.\n",
      "2024-04-09 02:23:45+00:00 [Note] [Entrypoint]: Initializing database files\n",
      "2024-04-09T02:23:45.623036Z 0 [System] [MY-015017] [Server] MySQL Server Initialization - start.\n",
      "2024-04-09T02:23:45.624217Z 0 [System] [MY-013169] [Server] /usr/sbin/mysqld (mysqld 8.3.0) initializing of server in progress as process 80\n",
      "2024-04-09T02:23:45.628192Z 1 [System] [MY-013576] [InnoDB] InnoDB initialization has started.\n",
      "2024-04-09T02:23:45.847813Z 1 [System] [MY-013577] [InnoDB] InnoDB initialization has ended.\n",
      "2024-04-09T02:23:46.434930Z 6 [Warning] [MY-010453] [Server] root@localhost is created with an empty password ! Please consider switching off the --initialize-insecure option.\n",
      "2024-04-09T02:23:48.702501Z 0 [System] [MY-015018] [Server] MySQL Server Initialization - end.\n",
      "2024-04-09 02:23:48+00:00 [Note] [Entrypoint]: Database files initialized\n",
      "2024-04-09 02:23:48+00:00 [Note] [Entrypoint]: Starting temporary server\n",
      "2024-04-09T02:23:48.739287Z 0 [System] [MY-015015] [Server] MySQL Server - start.\n",
      "2024-04-09T02:23:48.979243Z 0 [System] [MY-010116] [Server] /usr/sbin/mysqld (mysqld 8.3.0) starting as process 124\n",
      "2024-04-09T02:23:48.992549Z 1 [System] [MY-013576] [InnoDB] InnoDB initialization has started.\n",
      "2024-04-09T02:23:49.086382Z 1 [System] [MY-013577] [InnoDB] InnoDB initialization has ended.\n",
      "2024-04-09T02:23:49.262501Z 0 [Warning] [MY-010068] [Server] CA certificate ca.pem is self signed.\n",
      "2024-04-09T02:23:49.262535Z 0 [System] [MY-013602] [Server] Channel mysql_main configured to support TLS. Encrypted connections are now supported for this channel.\n",
      "2024-04-09T02:23:49.263710Z 0 [Warning] [MY-011810] [Server] Insecure configuration for --pid-file: Location '/var/run/mysqld' in the path is accessible to all OS users. Consider choosing a different directory.\n",
      "2024-04-09T02:23:49.274311Z 0 [System] [MY-010931] [Server] /usr/sbin/mysqld: ready for connections. Version: '8.3.0'  socket: '/var/run/mysqld/mysqld.sock'  port: 0  MySQL Community Server - GPL.\n",
      "2024-04-09T02:23:49.274435Z 0 [System] [MY-011323] [Server] X Plugin ready for connections. Socket: /var/run/mysqld/mysqlx.sock\n",
      "2024-04-09 02:23:49+00:00 [Note] [Entrypoint]: Temporary server started.\n",
      "'/var/lib/mysql/mysql.sock' -> '/var/run/mysqld/mysqld.sock'\n",
      "Warning: Unable to load '/usr/share/zoneinfo/iso3166.tab' as time zone. Skipping it.\n",
      "Warning: Unable to load '/usr/share/zoneinfo/leap-seconds.list' as time zone. Skipping it.\n",
      "Warning: Unable to load '/usr/share/zoneinfo/leapseconds' as time zone. Skipping it.\n",
      "Warning: Unable to load '/usr/share/zoneinfo/tzdata.zi' as time zone. Skipping it.\n",
      "Warning: Unable to load '/usr/share/zoneinfo/zone.tab' as time zone. Skipping it.\n",
      "Warning: Unable to load '/usr/share/zoneinfo/zone1970.tab' as time zone. Skipping it.\n",
      "\n",
      "2024-04-09 02:23:50+00:00 [Note] [Entrypoint]: Stopping temporary server\n",
      "2024-04-09T02:23:50.302882Z 10 [System] [MY-013172] [Server] Received SHUTDOWN from user root. Shutting down mysqld (Version: 8.3.0).\n",
      "2024-04-09T02:23:51.820578Z 0 [System] [MY-010910] [Server] /usr/sbin/mysqld: Shutdown complete (mysqld 8.3.0)  MySQL Community Server - GPL.\n",
      "2024-04-09T02:23:51.820618Z 0 [System] [MY-015016] [Server] MySQL Server - end.\n",
      "2024-04-09 02:23:52+00:00 [Note] [Entrypoint]: Temporary server stopped\n",
      "\n",
      "2024-04-09 02:23:52+00:00 [Note] [Entrypoint]: MySQL init process done. Ready for start up.\n",
      "\n",
      "2024-04-09T02:23:52.343963Z 0 [System] [MY-015015] [Server] MySQL Server - start.\n",
      "2024-04-09T02:23:52.488910Z 0 [System] [MY-010116] [Server] /usr/sbin/mysqld (mysqld 8.3.0) starting as process 1\n",
      "2024-04-09T02:23:52.492533Z 1 [System] [MY-013576] [InnoDB] InnoDB initialization has started.\n",
      "2024-04-09T02:23:52.543345Z 1 [System] [MY-013577] [InnoDB] InnoDB initialization has ended.\n",
      "2024-04-09T02:23:52.616382Z 0 [Warning] [MY-010068] [Server] CA certificate ca.pem is self signed.\n",
      "2024-04-09T02:23:52.616407Z 0 [System] [MY-013602] [Server] Channel mysql_main configured to support TLS. Encrypted connections are now supported for this channel.\n",
      "2024-04-09T02:23:52.617415Z 0 [Warning] [MY-011810] [Server] Insecure configuration for --pid-file: Location '/var/run/mysqld' in the path is accessible to all OS users. Consider choosing a different directory.\n",
      "2024-04-09T02:23:52.623910Z 0 [System] [MY-010931] [Server] /usr/sbin/mysqld: ready for connections. Version: '8.3.0'  socket: '/var/run/mysqld/mysqld.sock'  port: 3306  MySQL Community Server - GPL.\n",
      "2024-04-09T02:23:52.623922Z 0 [System] [MY-011323] [Server] X Plugin ready for connections. Bind-address: '::' port: 33060, socket: /var/run/mysqld/mysqlx.sock\n",
      "^C\n"
     ]
    }
   ],
   "source": [
    "#setup another conainer for mysql\n",
    "!docker run -d --name mysql -p 3306:3306 -e MYSQL_ROOT_PASSWORD=1 mysql:8\n",
    "#Note the -d means detached mode so no container is using created just the MySQL database \n",
    "!docker logs -f mysql"
   ]
  },
  {
   "cell_type": "markdown",
   "id": "b312951a-708d-4e69-80b7-9d37b5bd10fc",
   "metadata": {},
   "source": [
    "## The following needs to be run in the terminal"
   ]
  },
  {
   "cell_type": "code",
   "execution_count": 113,
   "id": "c1b77a0a-53a2-44a7-af22-8a4113d80666",
   "metadata": {},
   "outputs": [
    {
     "name": "stdout",
     "output_type": "stream",
     "text": [
      "7fa95a01b8afcbd30543c852388c9597fc460070001b9b2400959c408253ee8c\n"
     ]
    }
   ],
   "source": [
    "!docker run -d --name adminer -p 8080:8080 adminer\n"
   ]
  },
  {
   "cell_type": "code",
   "execution_count": 114,
   "id": "3dcfd4e3-a373-4341-8caa-bb8ea81dbb9a",
   "metadata": {},
   "outputs": [
    {
     "name": "stdout",
     "output_type": "stream",
     "text": [
      "[Tue Apr  9 02:25:33 2024] PHP 7.4.33 Development Server (http://[::]:8080) started\n",
      "^C\n"
     ]
    }
   ],
   "source": [
    "!docker logs -f adminer"
   ]
  },
  {
   "cell_type": "code",
   "execution_count": 115,
   "id": "d3295ddc-40c8-4dc3-bac5-f449cedd6a1c",
   "metadata": {},
   "outputs": [
    {
     "name": "stdout",
     "output_type": "stream",
     "text": [
      "212-            \"GlobalIPv6PrefixLen\": 0,\n",
      "213:            \"IPAddress\": \"172.17.0.2\",\n",
      "214-            \"IPPrefixLen\": 16,\n",
      "--\n",
      "225-                    \"Gateway\": \"172.17.0.1\",\n",
      "226:                    \"IPAddress\": \"172.17.0.2\",\n",
      "227-                    \"IPPrefixLen\": 16,\n"
     ]
    }
   ],
   "source": [
    "!docker inspect mysql | grep -n1 \"IPAddress\\\":\"\n"
   ]
  },
  {
   "cell_type": "code",
   "execution_count": 116,
   "id": "d245598f-5982-448f-826b-dcf2a02ea142",
   "metadata": {},
   "outputs": [
    {
     "name": "stdout",
     "output_type": "stream",
     "text": [
      "204-            \"GlobalIPv6PrefixLen\": 0,\n",
      "205:            \"IPAddress\": \"172.17.0.3\",\n",
      "206-            \"IPPrefixLen\": 16,\n",
      "--\n",
      "217-                    \"Gateway\": \"172.17.0.1\",\n",
      "218:                    \"IPAddress\": \"172.17.0.3\",\n",
      "219-                    \"IPPrefixLen\": 16,\n"
     ]
    }
   ],
   "source": [
    "!docker inspect adminer| grep  -n1 \"IPAddress\\\":\""
   ]
  },
  {
   "cell_type": "markdown",
   "id": "083fe448-2d62-42cc-a4bc-f9b96343bd0f",
   "metadata": {},
   "source": [
    "## Creating Named so that other containers can see other containers not just through the host"
   ]
  },
  {
   "cell_type": "code",
   "execution_count": 141,
   "id": "0934b4d7-5881-417d-b208-1132756b61f1",
   "metadata": {},
   "outputs": [
    {
     "name": "stdout",
     "output_type": "stream",
     "text": [
      "adminer\n",
      "adminer\n",
      "mysql\n",
      "mysql\n"
     ]
    }
   ],
   "source": [
    "#lets remove our old container\n",
    "!docker stop adminer\n",
    "!docker rm adminer\n",
    "!docker stop mysql\n",
    "!docker rm mysql"
   ]
  },
  {
   "cell_type": "code",
   "execution_count": 118,
   "id": "9c67866b-8c5a-4d3f-8616-23981e020e7e",
   "metadata": {},
   "outputs": [
    {
     "name": "stdout",
     "output_type": "stream",
     "text": [
      "dd243e991b929b84fb5343502e6a974e5678cd2cd7427d5d745a99b5146aef9d\n"
     ]
    }
   ],
   "source": [
    "# Create a network called yourNetwork using the following command\n",
    "\n",
    "!docker network create yourNetwork"
   ]
  },
  {
   "cell_type": "code",
   "execution_count": 142,
   "id": "98f9b37a-eeca-4c94-b793-67be3c732783",
   "metadata": {},
   "outputs": [
    {
     "name": "stdout",
     "output_type": "stream",
     "text": [
      "[\n",
      "    {\n",
      "        \"Name\": \"yourNetwork\",\n",
      "        \"Id\": \"dd243e991b929b84fb5343502e6a974e5678cd2cd7427d5d745a99b5146aef9d\",\n",
      "        \"Created\": \"2024-04-09T02:40:43.611900004Z\",\n",
      "        \"Scope\": \"local\",\n",
      "        \"Driver\": \"bridge\",\n",
      "        \"EnableIPv6\": false,\n",
      "        \"IPAM\": {\n",
      "            \"Driver\": \"default\",\n",
      "            \"Options\": {},\n",
      "            \"Config\": [\n",
      "                {\n",
      "                    \"Subnet\": \"172.19.0.0/16\",\n",
      "                    \"Gateway\": \"172.19.0.1\"\n",
      "                }\n",
      "            ]\n",
      "        },\n",
      "        \"Internal\": false,\n",
      "        \"Attachable\": false,\n",
      "        \"Ingress\": false,\n",
      "        \"ConfigFrom\": {\n",
      "            \"Network\": \"\"\n",
      "        },\n",
      "        \"ConfigOnly\": false,\n",
      "        \"Containers\": {\n",
      "            \"13b05c4725ca287d98adf75ef9213c96c3fb49c5d5827ad605fecb95d8964ae0\": {\n",
      "                \"Name\": \"mysql2\",\n",
      "                \"EndpointID\": \"01f528debbab0845e01fc47d05d303f7dd067b3a89ca7ee3f641af83b8117a07\",\n",
      "                \"MacAddress\": \"02:42:ac:13:00:02\",\n",
      "                \"IPv4Address\": \"172.19.0.2/16\",\n",
      "                \"IPv6Address\": \"\"\n",
      "            }\n",
      "        },\n",
      "        \"Options\": {},\n",
      "        \"Labels\": {}\n",
      "    }\n",
      "]\n"
     ]
    }
   ],
   "source": [
    "!docker network inspect yourNetwork"
   ]
  },
  {
   "cell_type": "code",
   "execution_count": 149,
   "id": "c60b5acb-99e9-42dd-83ff-5f808a1c7223",
   "metadata": {},
   "outputs": [
    {
     "name": "stdout",
     "output_type": "stream",
     "text": [
      "Unable to find image 'mysql:8' locally\n",
      "8: Pulling from library/mysql\n",
      "\n",
      "\u001b[1B17b3cebc: Pulling fs layer \n",
      "\u001b[1B022566ed: Pulling fs layer \n",
      "\u001b[1B18f4775b: Pulling fs layer \n",
      "\u001b[1Bfab8150e: Pulling fs layer \n",
      "\u001b[1B1470e9ce: Pulling fs layer \n",
      "\u001b[1Bc48356cf: Pulling fs layer \n",
      "\u001b[1B4d40ba87: Pulling fs layer \n",
      "\u001b[1B27488bbe: Pulling fs layer \n",
      "\u001b[1B304473a0: Pulling fs layer \n",
      "\u001b[1BDigest: sha256:0f2e15fb8b47db2518b1428239ed3e3fe6a6693401b2cf19552063562cfc2fc4[2K\u001b[10A\u001b[2K\u001b[6A\u001b[2K\u001b[10A\u001b[2K\u001b[7A\u001b[2K\u001b[7A\u001b[2K\u001b[7A\u001b[2K\u001b[7A\u001b[2K\u001b[5A\u001b[2K\u001b[10A\u001b[2K\u001b[10A\u001b[2K\u001b[10A\u001b[2K\u001b[10A\u001b[2K\u001b[10A\u001b[2K\u001b[4A\u001b[2K\u001b[10A\u001b[2K\u001b[4A\u001b[2K\u001b[10A\u001b[2K\u001b[4A\u001b[2K\u001b[2A\u001b[2K\u001b[4A\u001b[2K\u001b[2A\u001b[2K\u001b[10A\u001b[2K\u001b[10A\u001b[2K\u001b[4A\u001b[2K\u001b[2A\u001b[2K\u001b[4A\u001b[2K\u001b[4A\u001b[2K\u001b[4A\u001b[2K\u001b[1A\u001b[2K\u001b[4A\u001b[2K\u001b[4A\u001b[2K\u001b[2A\u001b[2K\u001b[4A\u001b[2K\u001b[4A\u001b[2K\u001b[4A\u001b[2K\u001b[2A\u001b[2K\u001b[4A\u001b[2K\u001b[2A\u001b[2K\u001b[4A\u001b[2K\u001b[2A\u001b[2K\u001b[4A\u001b[2K\u001b[2A\u001b[2K\u001b[4A\u001b[2K\u001b[2A\u001b[2K\u001b[4A\u001b[2K\u001b[2A\u001b[2K\u001b[4A\u001b[2K\u001b[2A\u001b[2K\u001b[2A\u001b[2K\u001b[2A\u001b[2K\u001b[2A\u001b[2K\u001b[2A\u001b[2K\u001b[2A\u001b[2K\u001b[2A\u001b[2K\u001b[2A\u001b[2K\u001b[2A\u001b[2K\u001b[2A\u001b[2K\u001b[2A\u001b[2K\u001b[2A\u001b[2K\u001b[2A\u001b[2K\u001b[2A\u001b[2K\u001b[2A\u001b[2K\u001b[2A\u001b[2K\u001b[2A\u001b[2K\u001b[2A\u001b[2K\u001b[2A\u001b[2KExtracting  38.44MB/64.03MB\u001b[2A\u001b[2K\u001b[2A\u001b[2K\u001b[2A\u001b[2K\u001b[2A\u001b[2K\u001b[2A\u001b[2K\u001b[2A\u001b[2K\u001b[2A\u001b[2K\u001b[2A\u001b[2K\u001b[2A\u001b[2K\u001b[2A\u001b[2K\u001b[2A\u001b[2K\u001b[2A\u001b[2K\u001b[2A\u001b[2K\n",
      "Status: Downloaded newer image for mysql:8\n",
      "9b85b45e6cf73949b55855ac695d9049dedd002578e8ed8a97ef4845559071e6\n"
     ]
    }
   ],
   "source": [
    "!docker run -d --network yourNetwork --name mysql -p 3306:3306 -e MYSQL_ROOT_PASSWORD=1 mysql:8\n"
   ]
  },
  {
   "cell_type": "code",
   "execution_count": 150,
   "id": "071b6c18-6c25-45ee-bddb-2745386107a7",
   "metadata": {},
   "outputs": [
    {
     "name": "stdout",
     "output_type": "stream",
     "text": [
      "Unable to find image 'adminer:latest' locally\n",
      "latest: Pulling from library/adminer\n",
      "\n",
      "\u001b[1Be134f2f5: Pulling fs layer \n",
      "\u001b[1B482dff10: Pulling fs layer \n",
      "\u001b[1B285c8fa7: Pulling fs layer \n",
      "\u001b[1Bf7875cdf: Pulling fs layer \n",
      "\u001b[1Bb99054a5: Pulling fs layer \n",
      "\u001b[1Bd715c1ea: Pulling fs layer \n",
      "\u001b[1BDigest: sha256:b75eae89431e8469613b844e76382a26efc8601c17f446bcd81665bc87ca9a1f\u001b[2K\u001b[6A\u001b[2K\u001b[7A\u001b[2K\u001b[7A\u001b[2K\u001b[7A\u001b[2K\u001b[7A\u001b[2K\u001b[3A\u001b[2K\u001b[6A\u001b[2K\u001b[7A\u001b[2K\u001b[6A\u001b[2K\u001b[7A\u001b[2K\u001b[7A\u001b[2K\u001b[6A\u001b[2K\u001b[2A\u001b[2K\u001b[6A\u001b[2K\u001b[7A\u001b[2K\u001b[6A\u001b[2K\u001b[2A\u001b[2K\u001b[7A\u001b[2K\u001b[7A\u001b[2K\u001b[6A\u001b[2K\u001b[7A\u001b[2K\u001b[7A\u001b[2K\u001b[1A\u001b[2K\u001b[7A\u001b[2K\u001b[7A\u001b[2K\u001b[7A\u001b[2K\u001b[7A\u001b[2K\u001b[7A\u001b[2K\u001b[7A\u001b[2K\u001b[7A\u001b[2K\u001b[7A\u001b[2K\u001b[7A\u001b[2K\u001b[7A\u001b[2K\u001b[6A\u001b[2K\u001b[6A\u001b[2K\u001b[6A\u001b[2K\u001b[6A\u001b[2K\u001b[6A\u001b[2K\u001b[6A\u001b[2K\u001b[6A\u001b[2K\u001b[6A\u001b[2K\u001b[3A\u001b[2K\n",
      "Status: Downloaded newer image for adminer:latest\n",
      "6d712782ff62f841a79b5a360b42592dab66566d9e40125c1eda32e6e62785a4\n"
     ]
    }
   ],
   "source": [
    "!docker run -d --network yourNetwork --name adminer -p 8080:8080 adminer"
   ]
  },
  {
   "cell_type": "code",
   "execution_count": 151,
   "id": "a5fc6246-b507-4b1f-8b58-1e6f9994177c",
   "metadata": {},
   "outputs": [
    {
     "name": "stdout",
     "output_type": "stream",
     "text": [
      "Error response from daemon: endpoint with name adminer already exists in network yourNetwork\n"
     ]
    }
   ],
   "source": [
    "#Now lets connect the adminer\n",
    "!docker network connect yourNetwork adminer"
   ]
  },
  {
   "cell_type": "code",
   "execution_count": 139,
   "id": "7cf0eb53-203c-4492-b5d6-2a79a70b1880",
   "metadata": {},
   "outputs": [
    {
     "name": "stdout",
     "output_type": "stream",
     "text": [
      "            \"GlobalIPv6PrefixLen\": 0,\n",
      "            \"IPAddress\": \"\",\n",
      "            \"IPPrefixLen\": 0,\n",
      "            \"IPv6Gateway\": \"\",\n",
      "            \"MacAddress\": \"\",\n",
      "            \"Networks\": {\n",
      "                \"yourNetwork\": {\n",
      "                    \"IPAMConfig\": null,\n",
      "                    \"Links\": null,\n",
      "                    \"Aliases\": [\n",
      "                        \"13b05c4725ca\"\n"
     ]
    }
   ],
   "source": [
    "!docker inspect mysql2 |grep -C5 \" \\\"Networks\\\"\""
   ]
  },
  {
   "cell_type": "code",
   "execution_count": 148,
   "id": "b992ac2d-0dd7-4111-b7be-b174de9c6bec",
   "metadata": {},
   "outputs": [
    {
     "name": "stdout",
     "output_type": "stream",
     "text": [
      "            \"GlobalIPv6PrefixLen\": 0,\n",
      "            \"IPAddress\": \"\",\n",
      "            \"IPPrefixLen\": 0,\n",
      "            \"IPv6Gateway\": \"\",\n",
      "            \"MacAddress\": \"\",\n",
      "            \"Networks\": {\n",
      "                \"yourNetwork\": {\n",
      "                    \"IPAMConfig\": null,\n",
      "                    \"Links\": null,\n",
      "                    \"Aliases\": [\n",
      "                        \"7321bb69f22a\"\n"
     ]
    }
   ],
   "source": [
    "!docker inspect adminer| grep  -C5 \" \\\"Networks\\\"\""
   ]
  },
  {
   "cell_type": "markdown",
   "id": "b6371541-7400-4de9-8274-4784ce7ca815",
   "metadata": {},
   "source": [
    "# Part 2 \n",
    "You will need to do a little digging here and work on your own!\n",
    "\n",
    "Now that you have 2 containers up and running and know there connected. Create a python script that will check to see if the IP addresses of the containers are up and running. \n",
    "\n",
    "\n",
    "# Part 3\n",
    "Continue with the above code and create a script that will relaunch a container if it ever shutsdown. please use the following web page to start your code and understand Docker API.\n",
    "\n",
    "https://docs.docker.com/engine/api/sdk/examples/\n",
    "\n"
   ]
  },
  {
   "cell_type": "code",
   "execution_count": null,
   "id": "da809287-9d9a-4c74-8608-98eeef8a4924",
   "metadata": {},
   "outputs": [],
   "source": []
  }
 ],
 "metadata": {
  "kernelspec": {
   "display_name": "Python 3 (ipykernel)",
   "language": "python",
   "name": "python3"
  },
  "language_info": {
   "codemirror_mode": {
    "name": "ipython",
    "version": 3
   },
   "file_extension": ".py",
   "mimetype": "text/x-python",
   "name": "python",
   "nbconvert_exporter": "python",
   "pygments_lexer": "ipython3",
   "version": "3.11.11"
  }
 },
 "nbformat": 4,
 "nbformat_minor": 5
}
