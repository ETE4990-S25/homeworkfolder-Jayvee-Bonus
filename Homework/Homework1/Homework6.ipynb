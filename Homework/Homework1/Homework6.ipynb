{
 "cells": [
  {
   "cell_type": "markdown",
   "metadata": {},
   "source": [
    "Jayvee Bonus"
   ]
  },
  {
   "cell_type": "markdown",
   "metadata": {},
   "source": [
    "## Objective:\n",
    "The objective of this assignment is to practice using Functional Programing.\n",
    "\n",
    "## Instructions:\n",
    "\n",
    "Using everything we learned to day about Functional Programing, lambda and itters create one of each of the following:\n",
    "-  Basic Lambda Function\n",
    "    - Create a lambda function that takes one arguments and returns even or odd.\n",
    "- Advanced lambda Function\n",
    "    - Create a lambda function that takes a list and returns their sum \n",
    "- Sorting with Lambda\n",
    "- Filtering with Lambda - `filter()` \n",
    "- Mapping with Lambda - `map()`\n",
    "- Reducing with Lambda -  `reduce()` \n",
    "- Enumerate with or without Lambda - `enumerate()`\n",
    "- zip with or without lambda (may combine enumerate like in class) - `zip()`\n",
    "\n",
    "Submit the file as a .py \n",
    "\n",
    "\n"
   ]
  },
  {
   "cell_type": "code",
   "execution_count": null,
   "metadata": {},
   "outputs": [
    {
     "name": "stdout",
     "output_type": "stream",
     "text": [
      "The number is odd\n"
     ]
    }
   ],
   "source": [
    "#Create a lambda function that takes one arguments and returns even or odd.\n",
    "even_odd = lambda x: 'The number is even' if x % 2 == 0 else 'The number is odd'\n",
    "print (even_odd(5))"
   ]
  },
  {
   "cell_type": "code",
   "execution_count": null,
   "metadata": {},
   "outputs": [
    {
     "name": "stdout",
     "output_type": "stream",
     "text": [
      "The sum of the list is:  15\n"
     ]
    }
   ],
   "source": [
    "#Create a lambda function that takes a list and returns their sum \n",
    "summing = lambda list: sum(list)\n",
    "listomatic = [2,4,3,5,1]\n",
    "print('The sum of the list is: ', summing(listomatic))"
   ]
  },
  {
   "cell_type": "code",
   "execution_count": 9,
   "metadata": {},
   "outputs": [
    {
     "name": "stdout",
     "output_type": "stream",
     "text": [
      "Lambda sorted list: [1, 2, 3, 4, 5]\n"
     ]
    }
   ],
   "source": [
    "#Sorting with Lambda\n",
    "listomatic.sort(key=lambda x: x, reverse=False)\n",
    "print('Lambda sorted list:', listomatic)"
   ]
  },
  {
   "cell_type": "code",
   "execution_count": 10,
   "metadata": {},
   "outputs": [
    {
     "name": "stdout",
     "output_type": "stream",
     "text": [
      "Lambda filtered list: [2, 4]\n"
     ]
    }
   ],
   "source": [
    "#Filtering with Lambda - `filter()` \n",
    "filteredlist = list(filter(lambda x: x % 2 == 0, listomatic))\n",
    "print('Lambda filtered list:', filteredlist)"
   ]
  },
  {
   "cell_type": "code",
   "execution_count": 11,
   "metadata": {},
   "outputs": [
    {
     "name": "stdout",
     "output_type": "stream",
     "text": [
      "Lambda mapped list: [1, 4, 9, 16, 25]\n"
     ]
    }
   ],
   "source": [
    "#Mapping with Lambda - `map()`\n",
    "squared = list(map(lambda x: x**2, listomatic))\n",
    "print('Lambda mapped list:', squared)"
   ]
  },
  {
   "cell_type": "code",
   "execution_count": 12,
   "metadata": {},
   "outputs": [
    {
     "name": "stdout",
     "output_type": "stream",
     "text": [
      "Lambda reduced list: 15\n"
     ]
    }
   ],
   "source": [
    "#Reducing with Lambda -  `reduce()` \n",
    "from functools import reduce\n",
    "sumbutcomplicated = reduce(lambda x,y: x + y, listomatic)\n",
    "print ('Lambda reduced list:', sumbutcomplicated)"
   ]
  },
  {
   "cell_type": "code",
   "execution_count": 17,
   "metadata": {},
   "outputs": [
    {
     "name": "stdout",
     "output_type": "stream",
     "text": [
      "Place 0: what\n",
      "Place 1: du\n",
      "Place 2: hell\n",
      "Place 3: big\n",
      "Place 4: boy\n"
     ]
    }
   ],
   "source": [
    "#Enumerate with or without Lambda - `enumerate()`\n",
    "listofwords = ['what', 'du', 'hell', 'big', 'boy']\n",
    "for i, word in enumerate(listofwords):\n",
    "    print(f\"Place {i}: {word}\")"
   ]
  },
  {
   "cell_type": "code",
   "execution_count": 18,
   "metadata": {},
   "outputs": [
    {
     "name": "stdout",
     "output_type": "stream",
     "text": [
      "[(1, 'what'), (2, 'du'), (3, 'hell'), (4, 'big'), (5, 'boy')]\n"
     ]
    }
   ],
   "source": [
    "#zip with or without lambda (may combine enumerate like in class) - `zip()`\n",
    "alltogethernowbaby = zip(listomatic, listofwords)\n",
    "print(list(alltogethernowbaby))"
   ]
  }
 ],
 "metadata": {
  "kernelspec": {
   "display_name": "base",
   "language": "python",
   "name": "python3"
  },
  "language_info": {
   "codemirror_mode": {
    "name": "ipython",
    "version": 3
   },
   "file_extension": ".py",
   "mimetype": "text/x-python",
   "name": "python",
   "nbconvert_exporter": "python",
   "pygments_lexer": "ipython3",
   "version": "3.12.7"
  }
 },
 "nbformat": 4,
 "nbformat_minor": 2
}
