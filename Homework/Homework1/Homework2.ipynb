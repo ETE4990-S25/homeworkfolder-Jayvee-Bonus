{
 "cells": [
  {
   "cell_type": "markdown",
   "id": "21c6150b-c2f3-4659-9561-af7f65d461b1",
   "metadata": {},
   "source": [
    "# Homework #2\n",
    "\n",
    "## Create a Farm\n",
    "\n",
    "Old McDonald is dyslexic OIEIE...\n",
    "Please help on his farm, please... \n",
    "\n",
    "Your goal is to categorize all of his animals into groups.\n",
    "example:\n",
    "- pigs are useful for there meat, skin and help improve the soil and biodiversity\n",
    "\n",
    "Create classes for all of his different types of animals \n",
    "You should have at least 5 animals on the farm ie. cows, pigs, dogs, goats \n",
    "\n",
    "VERY Poorly written example \n",
    "\n",
    "```python\n",
    "class Animals (self):\n",
    "    self.name = name\n",
    "    self.age = age\n",
    "\n",
    "class Pets(Animals):\n",
    "    self.friend = True\n",
    "    self.eat = False\n",
    "\n",
    "class Farm (Animals):\n",
    "    self.eat = True #will it be sold for food\n",
    "    self.leather = True #will it be sold for leather\n",
    "    self.helper = False #will it be used to say plow a field\n",
    "    self.soil = True #Will it be used to help the soil\n",
    "\n",
    "class Dog(Pets)\n",
    "    self.good_boy = True\n",
    "    self.type = \"type of dog\"\n",
    "listOfAnimals = [Dog()]\n",
    "```\n",
    "\n",
    "\n",
    "Your program should have an input and output allowing the user to add and remove animals. \n",
    "\n",
    "Love you !"
   ]
  },
  {
   "cell_type": "code",
   "execution_count": 1,
   "id": "bee751a0",
   "metadata": {},
   "outputs": [
    {
     "ename": "SyntaxError",
     "evalue": "incomplete input (1437593431.py, line 40)",
     "output_type": "error",
     "traceback": [
      "\u001b[1;36m  Cell \u001b[1;32mIn[1], line 40\u001b[1;36m\u001b[0m\n\u001b[1;33m    class Dog (Pets, Work):\u001b[0m\n\u001b[1;37m                           ^\u001b[0m\n\u001b[1;31mSyntaxError\u001b[0m\u001b[1;31m:\u001b[0m incomplete input\n"
     ]
    }
   ],
   "source": [
    "user = input (\"Please enter an animal, Old dyslexic Mcdonald lost! :\")\n",
    "\n",
    "list = [ Sheep(), Pig(), Cow(), Horse(), Goat(), Chicken(), Dog() ]\n",
    "\n",
    "class animals (self):\n",
    "    self.animal = animal\n",
    "    self.age = age\n",
    "\n",
    "class Livestock(Animals):\n",
    "    self.meat = True\n",
    "    self.milk = True\n",
    "    self.leather = True\n",
    "    self.manure = True\n",
    "    self.wool = True\n",
    "    self.eggs = True\n",
    "\n",
    "\n",
    "class Work(Animals):\n",
    "    self.labor = True\n",
    "    self.herding = True\n",
    "    self.landcontrol = True\n",
    "\n",
    "class Pets(Animals):\n",
    "    self.friend = True\n",
    "\n",
    "\n",
    "\n",
    "class Cow(Livestock):\n",
    "\n",
    "    class Pig(Livestock):\n",
    "\n",
    "        class Chicken(Livestock): \n",
    "    \n",
    "            class Goat (Livestock, Work):\n",
    "    \n",
    "                class Sheep (Livestock, Work):\n",
    "    \n",
    "                    class Horse (Pets, Work):\n",
    "    \n",
    "                        class Dog (Pets, Work):"
   ]
  },
  {
   "cell_type": "code",
   "execution_count": null,
   "id": "1f69b105-3543-4340-b138-a0d6dd8a9f9d",
   "metadata": {},
   "outputs": [],
   "source": []
  },
  {
   "cell_type": "code",
   "execution_count": null,
   "id": "b2087750-d1a6-4501-80c8-51ae7f845420",
   "metadata": {},
   "outputs": [],
   "source": []
  }
 ],
 "metadata": {
  "kernelspec": {
   "display_name": "base",
   "language": "python",
   "name": "python3"
  },
  "language_info": {
   "codemirror_mode": {
    "name": "ipython",
    "version": 3
   },
   "file_extension": ".py",
   "mimetype": "text/x-python",
   "name": "python",
   "nbconvert_exporter": "python",
   "pygments_lexer": "ipython3",
   "version": "3.12.7"
  }
 },
 "nbformat": 4,
 "nbformat_minor": 5
}
