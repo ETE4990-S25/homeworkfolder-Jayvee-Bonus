{
 "cells": [
  {
   "cell_type": "markdown",
   "id": "94336058-4ebc-4a98-9a56-de67b67d5ce5",
   "metadata": {},
   "source": [
    "# Homework #4\n",
    "\n",
    "Develop a function named decode(message_file). \n",
    "\n",
    "This function should read an encoded message from a .txt file and return its decoded version as a string.\n",
    "\n",
    "Your function must be able to process an input file with the following format:\n",
    "\n",
    "```\n",
    "3 love\n",
    "6 computers\n",
    "2 dogs\n",
    "4 cats\n",
    "1 I\n",
    "5 you\n",
    "```\n",
    "\n",
    "In this file, each line contains a number followed by a word. The task is to decode a hidden message based on the arrangement of these numbers into a \"pyramid\" structure. The numbers are placed into the pyramid in ascending order, with each line of the pyramid having one more number than the line above it. The smallest number is 1, and the numbers increase consecutively, like so:\n",
    "\n",
    "```\n",
    "   1\n",
    "  2 3\n",
    " 4 5 6\n",
    "7 8 9 10\n",
    "```\n",
    "\n",
    "The key to decoding the message is to use the words corresponding to the numbers at the end of each pyramid line (in this example, 1, 3, and 6). You should ignore all the other words. So for the example input file above, the message words are:\n",
    "\n",
    "```\n",
    "1: I\n",
    "3: love\n",
    "6: computers\n",
    "```\n",
    "and your function should return the string \"I love computers\".\n",
    "\n"
   ]
  },
  {
   "cell_type": "code",
   "execution_count": null,
   "id": "2532f781-eb6b-4dcc-aad7-b1463a8f51a6",
   "metadata": {},
   "outputs": [
    {
     "name": "stdout",
     "output_type": "stream",
     "text": [
      "message.txt has been created with encoded message.\n",
      "I love computers\n"
     ]
    },
    {
     "ename": "",
     "evalue": "",
     "output_type": "error",
     "traceback": [
      "\u001b[1;31mThe Kernel crashed while executing code in the current cell or a previous cell. \n",
      "\u001b[1;31mPlease review the code in the cell(s) to identify a possible cause of the failure. \n",
      "\u001b[1;31mClick <a href='https://aka.ms/vscodeJupyterKernelCrash'>here</a> for more info. \n",
      "\u001b[1;31mView Jupyter <a href='command:jupyter.viewOutput'>log</a> for further details."
     ]
    }
   ],
   "source": [
    "#Code goes here\n",
    "message_content = \"\"\"3 love\n",
    "6 computers\n",
    "2 dogs\n",
    "4 cats\n",
    "1 I\n",
    "5 you\"\"\"\n",
    "\n",
    "with open('message.txt', 'w') as file:\n",
    "    file.write(message_content)\n",
    "\n",
    "print(\"message.txt has been created with encoded message.\")\n",
    "\n",
    "def decode(message_content):\n",
    "    with open(message_content, 'r') as file:\n",
    "        lines = file.readlines()\n",
    "\n",
    "    number_word_dict = {}\n",
    "    for line in lines:\n",
    "        number, word = line.split()\n",
    "        number_word_dict[int(number)] = word\n",
    "\n",
    "    end_numbers = []\n",
    "    current_number = 1\n",
    "    increment = 1\n",
    "    while current_number in number_word_dict:\n",
    "        end_numbers.append(current_number)\n",
    "        increment += 1\n",
    "        current_number += increment\n",
    "\n",
    "    decoded_message = ' '.join(number_word_dict[number] for number in end_numbers)\n",
    "\n",
    "    return decoded_message\n",
    "\n",
    "decoded_message = decode('message.txt')\n",
    "print(decoded_message)"
   ]
  }
 ],
 "metadata": {
  "kernelspec": {
   "display_name": "base",
   "language": "python",
   "name": "python3"
  },
  "language_info": {
   "codemirror_mode": {
    "name": "ipython",
    "version": 3
   },
   "file_extension": ".py",
   "mimetype": "text/x-python",
   "name": "python",
   "nbconvert_exporter": "python",
   "pygments_lexer": "ipython3",
   "version": "3.12.7"
  }
 },
 "nbformat": 4,
 "nbformat_minor": 5
}
