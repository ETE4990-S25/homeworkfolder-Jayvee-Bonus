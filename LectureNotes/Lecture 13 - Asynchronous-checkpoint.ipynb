{
 "cells": [
  {
   "cell_type": "markdown",
   "id": "021ec0b5",
   "metadata": {},
   "source": [
    "# Asynchronous Programing\n",
    "\n",
    "The Async keyword when used before a def statment defined a new coroutine.\n",
    "\n",
    "A coroutine can be suspended or exicuted at predefined circumstances.\n",
    "\n",
    "Asynchronous tasks do not all run at the same time but insted when idle will allow for another process to run also\n",
    "\n",
    "This is called cooperative.\n",
    "\n",
    "Cooperative multitasking is on the application level and does not deal with threads or processes that need to release control.\n",
    "\n"
   ]
  },
  {
   "cell_type": "code",
   "execution_count": 3,
   "id": "6c9c1b85",
   "metadata": {},
   "outputs": [],
   "source": [
    "import asyncio \n",
    "import nest_asyncio # this will fix the iPython unable to perform Asynchronous tasks\n",
    "nest_asyncio.apply()\n",
    "async def async_hello():\n",
    "    print(\"hello, world\")\n"
   ]
  },
  {
   "cell_type": "code",
   "execution_count": 4,
   "id": "becadad3",
   "metadata": {},
   "outputs": [
    {
     "data": {
      "text/plain": [
       "<coroutine object async_hello at 0x7f8ac03df840>"
      ]
     },
     "execution_count": 4,
     "metadata": {},
     "output_type": "execute_result"
    }
   ],
   "source": [
    "async_hello()"
   ]
  },
  {
   "cell_type": "markdown",
   "id": "d5ec9d7d",
   "metadata": {},
   "source": [
    "As you can see an async gives an output like a generator/functional program. As you can guess it also does not do anything untill execution is scheduled. \n",
    "\n",
    "To do this we need a loop:"
   ]
  },
  {
   "cell_type": "code",
   "execution_count": 5,
   "id": "ebe70ec2",
   "metadata": {},
   "outputs": [
    {
     "name": "stdout",
     "output_type": "stream",
     "text": [
      "hello, world\n"
     ]
    }
   ],
   "source": [
    "loop = asyncio.get_event_loop()\n",
    "loop.run_until_complete(async_hello())"
   ]
  },
  {
   "cell_type": "markdown",
   "id": "d84ecfcd",
   "metadata": {},
   "source": [
    "Lets make it a little more complecated to observe closer on what is going on."
   ]
  },
  {
   "cell_type": "code",
   "execution_count": 6,
   "id": "034ea135",
   "metadata": {},
   "outputs": [
    {
     "name": "stdout",
     "output_type": "stream",
     "text": [
      "2\n",
      "6\n",
      "5\n",
      "3\n",
      "7\n",
      "9\n",
      "4\n",
      "0\n",
      "8\n",
      "1\n"
     ]
    },
    {
     "data": {
      "text/plain": [
       "({<Task finished name='Task-10' coro=<print_number() done, defined at /var/folders/6c/phtqtltd4wn1pydbmzp55knr0000gp/T/ipykernel_11459/205174006.py:3> result=None>,\n",
       "  <Task finished name='Task-11' coro=<print_number() done, defined at /var/folders/6c/phtqtltd4wn1pydbmzp55knr0000gp/T/ipykernel_11459/205174006.py:3> result=None>,\n",
       "  <Task finished name='Task-12' coro=<print_number() done, defined at /var/folders/6c/phtqtltd4wn1pydbmzp55knr0000gp/T/ipykernel_11459/205174006.py:3> result=None>,\n",
       "  <Task finished name='Task-3' coro=<print_number() done, defined at /var/folders/6c/phtqtltd4wn1pydbmzp55knr0000gp/T/ipykernel_11459/205174006.py:3> result=None>,\n",
       "  <Task finished name='Task-4' coro=<print_number() done, defined at /var/folders/6c/phtqtltd4wn1pydbmzp55knr0000gp/T/ipykernel_11459/205174006.py:3> result=None>,\n",
       "  <Task finished name='Task-5' coro=<print_number() done, defined at /var/folders/6c/phtqtltd4wn1pydbmzp55knr0000gp/T/ipykernel_11459/205174006.py:3> result=None>,\n",
       "  <Task finished name='Task-6' coro=<print_number() done, defined at /var/folders/6c/phtqtltd4wn1pydbmzp55knr0000gp/T/ipykernel_11459/205174006.py:3> result=None>,\n",
       "  <Task finished name='Task-7' coro=<print_number() done, defined at /var/folders/6c/phtqtltd4wn1pydbmzp55knr0000gp/T/ipykernel_11459/205174006.py:3> result=None>,\n",
       "  <Task finished name='Task-8' coro=<print_number() done, defined at /var/folders/6c/phtqtltd4wn1pydbmzp55knr0000gp/T/ipykernel_11459/205174006.py:3> result=None>,\n",
       "  <Task finished name='Task-9' coro=<print_number() done, defined at /var/folders/6c/phtqtltd4wn1pydbmzp55knr0000gp/T/ipykernel_11459/205174006.py:3> result=None>},\n",
       " set())"
      ]
     },
     "execution_count": 6,
     "metadata": {},
     "output_type": "execute_result"
    }
   ],
   "source": [
    "import asyncio#define a function for the rest of the notbook to use\n",
    "\n",
    "async def print_number(number):\n",
    "    print(number)\n",
    "\n",
    "loop = asyncio.get_event_loop() #setup a loop\n",
    "\n",
    "loop.run_until_complete( # run the loop\n",
    "    asyncio.wait([\n",
    "        print_number(number)\n",
    "        for number in range(10)\n",
    "    ])\n",
    ")\n",
    "#loop.close() #needed when not using nest_asyncio"
   ]
  },
  {
   "cell_type": "markdown",
   "id": "7717c318",
   "metadata": {},
   "source": [
    "asyncio.wait() is a function that accepts a list of coroutine objects and returns immediatley. \n",
    "asyncio.wait() results are a generator and in this case is called futures\n",
    "\n",
    "Why are they out of order?"
   ]
  },
  {
   "cell_type": "code",
   "execution_count": 13,
   "id": "8c1d133b",
   "metadata": {},
   "outputs": [
    {
     "name": "stdout",
     "output_type": "stream",
     "text": [
      "hello\n",
      "first waited\n",
      "hello\n",
      "first waited\n",
      "hello\n",
      "first waited\n",
      "hello\n",
      "first waited\n",
      "hello\n",
      "second waited\n",
      "hello\n"
     ]
    },
    {
     "name": "stderr",
     "output_type": "stream",
     "text": [
      "Task exception was never retrieved\n",
      "future: <Task finished name='Task-20' coro=<waits() done, defined at /var/folders/6c/phtqtltd4wn1pydbmzp55knr0000gp/T/ipykernel_11459/693453185.py:2> exception=NameError(\"name 'sleep' is not defined\")>\n",
      "Traceback (most recent call last):\n",
      "  File \"/Users/Kris/opt/anaconda3/lib/python3.9/asyncio/tasks.py\", line 256, in __step\n",
      "    result = coro.send(None)\n",
      "  File \"/var/folders/6c/phtqtltd4wn1pydbmzp55knr0000gp/T/ipykernel_11459/693453185.py\", line 4, in waits\n",
      "    sleep(2)\n",
      "NameError: name 'sleep' is not defined\n",
      "Task exception was never retrieved\n",
      "future: <Task finished name='Task-21' coro=<waits() done, defined at /var/folders/6c/phtqtltd4wn1pydbmzp55knr0000gp/T/ipykernel_11459/693453185.py:2> exception=NameError(\"name 'sleep' is not defined\")>\n",
      "Traceback (most recent call last):\n",
      "  File \"/Users/Kris/opt/anaconda3/lib/python3.9/asyncio/tasks.py\", line 256, in __step\n",
      "    result = coro.send(None)\n",
      "  File \"/var/folders/6c/phtqtltd4wn1pydbmzp55knr0000gp/T/ipykernel_11459/693453185.py\", line 4, in waits\n",
      "    sleep(2)\n",
      "NameError: name 'sleep' is not defined\n",
      "Task exception was never retrieved\n",
      "future: <Task finished name='Task-22' coro=<waits() done, defined at /var/folders/6c/phtqtltd4wn1pydbmzp55knr0000gp/T/ipykernel_11459/693453185.py:2> exception=NameError(\"name 'sleep' is not defined\")>\n",
      "Traceback (most recent call last):\n",
      "  File \"/Users/Kris/opt/anaconda3/lib/python3.9/asyncio/tasks.py\", line 256, in __step\n",
      "    result = coro.send(None)\n",
      "  File \"/var/folders/6c/phtqtltd4wn1pydbmzp55knr0000gp/T/ipykernel_11459/693453185.py\", line 4, in waits\n",
      "    sleep(2)\n",
      "NameError: name 'sleep' is not defined\n",
      "Task exception was never retrieved\n",
      "future: <Task finished name='Task-23' coro=<waits() done, defined at /var/folders/6c/phtqtltd4wn1pydbmzp55knr0000gp/T/ipykernel_11459/693453185.py:2> exception=NameError(\"name 'sleep' is not defined\")>\n",
      "Traceback (most recent call last):\n",
      "  File \"/Users/Kris/opt/anaconda3/lib/python3.9/asyncio/tasks.py\", line 256, in __step\n",
      "    result = coro.send(None)\n",
      "  File \"/var/folders/6c/phtqtltd4wn1pydbmzp55knr0000gp/T/ipykernel_11459/693453185.py\", line 4, in waits\n",
      "    sleep(2)\n",
      "NameError: name 'sleep' is not defined\n",
      "Task exception was never retrieved\n",
      "future: <Task finished name='Task-24' coro=<waits() done, defined at /var/folders/6c/phtqtltd4wn1pydbmzp55knr0000gp/T/ipykernel_11459/693453185.py:2> exception=NameError(\"name 'sleep' is not defined\")>\n",
      "Traceback (most recent call last):\n",
      "  File \"/Users/Kris/opt/anaconda3/lib/python3.9/asyncio/tasks.py\", line 256, in __step\n",
      "    result = coro.send(None)\n",
      "  File \"/var/folders/6c/phtqtltd4wn1pydbmzp55knr0000gp/T/ipykernel_11459/693453185.py\", line 4, in waits\n",
      "    sleep(2)\n",
      "NameError: name 'sleep' is not defined\n",
      "Task exception was never retrieved\n",
      "future: <Task finished name='Task-26' coro=<waits() done, defined at /var/folders/6c/phtqtltd4wn1pydbmzp55knr0000gp/T/ipykernel_11459/693453185.py:2> exception=NameError(\"name 'sleep' is not defined\")>\n",
      "Traceback (most recent call last):\n",
      "  File \"/Users/Kris/opt/anaconda3/lib/python3.9/asyncio/tasks.py\", line 256, in __step\n",
      "    result = coro.send(None)\n",
      "  File \"/var/folders/6c/phtqtltd4wn1pydbmzp55knr0000gp/T/ipykernel_11459/693453185.py\", line 4, in waits\n",
      "    sleep(2)\n",
      "NameError: name 'sleep' is not defined\n",
      "Task exception was never retrieved\n",
      "future: <Task finished name='Task-27' coro=<waits() done, defined at /var/folders/6c/phtqtltd4wn1pydbmzp55knr0000gp/T/ipykernel_11459/693453185.py:2> exception=NameError(\"name 'sleep' is not defined\")>\n",
      "Traceback (most recent call last):\n",
      "  File \"/Users/Kris/opt/anaconda3/lib/python3.9/asyncio/tasks.py\", line 256, in __step\n",
      "    result = coro.send(None)\n",
      "  File \"/var/folders/6c/phtqtltd4wn1pydbmzp55knr0000gp/T/ipykernel_11459/693453185.py\", line 4, in waits\n",
      "    sleep(2)\n",
      "NameError: name 'sleep' is not defined\n",
      "Task exception was never retrieved\n",
      "future: <Task finished name='Task-28' coro=<waits() done, defined at /var/folders/6c/phtqtltd4wn1pydbmzp55knr0000gp/T/ipykernel_11459/693453185.py:2> exception=NameError(\"name 'sleep' is not defined\")>\n",
      "Traceback (most recent call last):\n",
      "  File \"/Users/Kris/opt/anaconda3/lib/python3.9/asyncio/tasks.py\", line 256, in __step\n",
      "    result = coro.send(None)\n",
      "  File \"/var/folders/6c/phtqtltd4wn1pydbmzp55knr0000gp/T/ipykernel_11459/693453185.py\", line 4, in waits\n",
      "    sleep(2)\n",
      "NameError: name 'sleep' is not defined\n",
      "Task exception was never retrieved\n",
      "future: <Task finished name='Task-29' coro=<waits() done, defined at /var/folders/6c/phtqtltd4wn1pydbmzp55knr0000gp/T/ipykernel_11459/693453185.py:2> exception=NameError(\"name 'sleep' is not defined\")>\n",
      "Traceback (most recent call last):\n",
      "  File \"/Users/Kris/opt/anaconda3/lib/python3.9/asyncio/tasks.py\", line 256, in __step\n",
      "    result = coro.send(None)\n",
      "  File \"/var/folders/6c/phtqtltd4wn1pydbmzp55knr0000gp/T/ipykernel_11459/693453185.py\", line 4, in waits\n",
      "    sleep(2)\n",
      "NameError: name 'sleep' is not defined\n",
      "Task exception was never retrieved\n",
      "future: <Task finished name='Task-30' coro=<waits() done, defined at /var/folders/6c/phtqtltd4wn1pydbmzp55knr0000gp/T/ipykernel_11459/693453185.py:2> exception=NameError(\"name 'sleep' is not defined\")>\n",
      "Traceback (most recent call last):\n",
      "  File \"/Users/Kris/opt/anaconda3/lib/python3.9/asyncio/tasks.py\", line 256, in __step\n",
      "    result = coro.send(None)\n",
      "  File \"/var/folders/6c/phtqtltd4wn1pydbmzp55knr0000gp/T/ipykernel_11459/693453185.py\", line 4, in waits\n",
      "    sleep(2)\n",
      "NameError: name 'sleep' is not defined\n",
      "Task exception was never retrieved\n",
      "future: <Task finished name='Task-32' coro=<waits() done, defined at /var/folders/6c/phtqtltd4wn1pydbmzp55knr0000gp/T/ipykernel_11459/693453185.py:2> exception=NameError(\"name 'sleep' is not defined\")>\n",
      "Traceback (most recent call last):\n",
      "  File \"/Users/Kris/opt/anaconda3/lib/python3.9/asyncio/tasks.py\", line 256, in __step\n",
      "    result = coro.send(None)\n",
      "  File \"/var/folders/6c/phtqtltd4wn1pydbmzp55knr0000gp/T/ipykernel_11459/693453185.py\", line 4, in waits\n",
      "    sleep(2)\n",
      "NameError: name 'sleep' is not defined\n",
      "Task exception was never retrieved\n",
      "future: <Task finished name='Task-33' coro=<waits() done, defined at /var/folders/6c/phtqtltd4wn1pydbmzp55knr0000gp/T/ipykernel_11459/693453185.py:2> exception=NameError(\"name 'sleep' is not defined\")>\n",
      "Traceback (most recent call last):\n",
      "  File \"/Users/Kris/opt/anaconda3/lib/python3.9/asyncio/tasks.py\", line 256, in __step\n",
      "    result = coro.send(None)\n",
      "  File \"/var/folders/6c/phtqtltd4wn1pydbmzp55knr0000gp/T/ipykernel_11459/693453185.py\", line 4, in waits\n",
      "    sleep(2)\n",
      "NameError: name 'sleep' is not defined\n",
      "Task exception was never retrieved\n",
      "future: <Task finished name='Task-34' coro=<waits() done, defined at /var/folders/6c/phtqtltd4wn1pydbmzp55knr0000gp/T/ipykernel_11459/693453185.py:2> exception=NameError(\"name 'sleep' is not defined\")>\n",
      "Traceback (most recent call last):\n",
      "  File \"/Users/Kris/opt/anaconda3/lib/python3.9/asyncio/tasks.py\", line 256, in __step\n",
      "    result = coro.send(None)\n",
      "  File \"/var/folders/6c/phtqtltd4wn1pydbmzp55knr0000gp/T/ipykernel_11459/693453185.py\", line 4, in waits\n",
      "    sleep(2)\n",
      "NameError: name 'sleep' is not defined\n",
      "Task exception was never retrieved\n",
      "future: <Task finished name='Task-35' coro=<waits() done, defined at /var/folders/6c/phtqtltd4wn1pydbmzp55knr0000gp/T/ipykernel_11459/693453185.py:2> exception=NameError(\"name 'sleep' is not defined\")>\n",
      "Traceback (most recent call last):\n",
      "  File \"/Users/Kris/opt/anaconda3/lib/python3.9/asyncio/tasks.py\", line 256, in __step\n",
      "    result = coro.send(None)\n",
      "  File \"/var/folders/6c/phtqtltd4wn1pydbmzp55knr0000gp/T/ipykernel_11459/693453185.py\", line 4, in waits\n",
      "    sleep(2)\n",
      "NameError: name 'sleep' is not defined\n",
      "Task exception was never retrieved\n",
      "future: <Task finished name='Task-36' coro=<waits() done, defined at /var/folders/6c/phtqtltd4wn1pydbmzp55knr0000gp/T/ipykernel_11459/693453185.py:2> exception=NameError(\"name 'sleep' is not defined\")>\n",
      "Traceback (most recent call last):\n",
      "  File \"/Users/Kris/opt/anaconda3/lib/python3.9/asyncio/tasks.py\", line 256, in __step\n",
      "    result = coro.send(None)\n",
      "  File \"/var/folders/6c/phtqtltd4wn1pydbmzp55knr0000gp/T/ipykernel_11459/693453185.py\", line 4, in waits\n",
      "    sleep(2)\n",
      "NameError: name 'sleep' is not defined\n",
      "Task exception was never retrieved\n",
      "future: <Task finished name='Task-38' coro=<waits() done, defined at /var/folders/6c/phtqtltd4wn1pydbmzp55knr0000gp/T/ipykernel_11459/1893170613.py:2> exception=NameError(\"name 'sleep' is not defined\")>\n",
      "Traceback (most recent call last):\n",
      "  File \"/Users/Kris/opt/anaconda3/lib/python3.9/asyncio/tasks.py\", line 256, in __step\n",
      "    result = coro.send(None)\n",
      "  File \"/var/folders/6c/phtqtltd4wn1pydbmzp55knr0000gp/T/ipykernel_11459/1893170613.py\", line 5, in waits\n",
      "    sleep(2)\n",
      "NameError: name 'sleep' is not defined\n"
     ]
    },
    {
     "name": "stderr",
     "output_type": "stream",
     "text": [
      "Task exception was never retrieved\n",
      "future: <Task finished name='Task-39' coro=<waits() done, defined at /var/folders/6c/phtqtltd4wn1pydbmzp55knr0000gp/T/ipykernel_11459/1893170613.py:2> exception=NameError(\"name 'sleep' is not defined\")>\n",
      "Traceback (most recent call last):\n",
      "  File \"/Users/Kris/opt/anaconda3/lib/python3.9/asyncio/tasks.py\", line 256, in __step\n",
      "    result = coro.send(None)\n",
      "  File \"/var/folders/6c/phtqtltd4wn1pydbmzp55knr0000gp/T/ipykernel_11459/1893170613.py\", line 5, in waits\n",
      "    sleep(2)\n",
      "NameError: name 'sleep' is not defined\n",
      "Task exception was never retrieved\n",
      "future: <Task finished name='Task-40' coro=<waits() done, defined at /var/folders/6c/phtqtltd4wn1pydbmzp55knr0000gp/T/ipykernel_11459/1893170613.py:2> exception=NameError(\"name 'sleep' is not defined\")>\n",
      "Traceback (most recent call last):\n",
      "  File \"/Users/Kris/opt/anaconda3/lib/python3.9/asyncio/tasks.py\", line 256, in __step\n",
      "    result = coro.send(None)\n",
      "  File \"/var/folders/6c/phtqtltd4wn1pydbmzp55knr0000gp/T/ipykernel_11459/1893170613.py\", line 5, in waits\n",
      "    sleep(2)\n",
      "NameError: name 'sleep' is not defined\n",
      "Task exception was never retrieved\n",
      "future: <Task finished name='Task-41' coro=<waits() done, defined at /var/folders/6c/phtqtltd4wn1pydbmzp55knr0000gp/T/ipykernel_11459/1893170613.py:2> exception=NameError(\"name 'sleep' is not defined\")>\n",
      "Traceback (most recent call last):\n",
      "  File \"/Users/Kris/opt/anaconda3/lib/python3.9/asyncio/tasks.py\", line 256, in __step\n",
      "    result = coro.send(None)\n",
      "  File \"/var/folders/6c/phtqtltd4wn1pydbmzp55knr0000gp/T/ipykernel_11459/1893170613.py\", line 5, in waits\n",
      "    sleep(2)\n",
      "NameError: name 'sleep' is not defined\n",
      "Task exception was never retrieved\n",
      "future: <Task finished name='Task-42' coro=<waits() done, defined at /var/folders/6c/phtqtltd4wn1pydbmzp55knr0000gp/T/ipykernel_11459/1893170613.py:2> exception=NameError(\"name 'sleep' is not defined\")>\n",
      "Traceback (most recent call last):\n",
      "  File \"/Users/Kris/opt/anaconda3/lib/python3.9/asyncio/tasks.py\", line 256, in __step\n",
      "    result = coro.send(None)\n",
      "  File \"/var/folders/6c/phtqtltd4wn1pydbmzp55knr0000gp/T/ipykernel_11459/1893170613.py\", line 5, in waits\n",
      "    sleep(2)\n",
      "NameError: name 'sleep' is not defined\n",
      "Task exception was never retrieved\n",
      "future: <Task finished name='Task-44' coro=<waits() done, defined at /var/folders/6c/phtqtltd4wn1pydbmzp55knr0000gp/T/ipykernel_11459/1990925770.py:2> exception=NameError(\"name 'sleep' is not defined\")>\n",
      "Traceback (most recent call last):\n",
      "  File \"/Users/Kris/opt/anaconda3/lib/python3.9/asyncio/tasks.py\", line 256, in __step\n",
      "    result = coro.send(None)\n",
      "  File \"/var/folders/6c/phtqtltd4wn1pydbmzp55knr0000gp/T/ipykernel_11459/1990925770.py\", line 5, in waits\n",
      "    sleep(1)\n",
      "NameError: name 'sleep' is not defined\n",
      "Task exception was never retrieved\n",
      "future: <Task finished name='Task-45' coro=<waits() done, defined at /var/folders/6c/phtqtltd4wn1pydbmzp55knr0000gp/T/ipykernel_11459/1990925770.py:2> exception=NameError(\"name 'sleep' is not defined\")>\n",
      "Traceback (most recent call last):\n",
      "  File \"/Users/Kris/opt/anaconda3/lib/python3.9/asyncio/tasks.py\", line 256, in __step\n",
      "    result = coro.send(None)\n",
      "  File \"/var/folders/6c/phtqtltd4wn1pydbmzp55knr0000gp/T/ipykernel_11459/1990925770.py\", line 5, in waits\n",
      "    sleep(1)\n",
      "NameError: name 'sleep' is not defined\n",
      "Task exception was never retrieved\n",
      "future: <Task finished name='Task-46' coro=<waits() done, defined at /var/folders/6c/phtqtltd4wn1pydbmzp55knr0000gp/T/ipykernel_11459/1990925770.py:2> exception=NameError(\"name 'sleep' is not defined\")>\n",
      "Traceback (most recent call last):\n",
      "  File \"/Users/Kris/opt/anaconda3/lib/python3.9/asyncio/tasks.py\", line 256, in __step\n",
      "    result = coro.send(None)\n",
      "  File \"/var/folders/6c/phtqtltd4wn1pydbmzp55knr0000gp/T/ipykernel_11459/1990925770.py\", line 5, in waits\n",
      "    sleep(1)\n",
      "NameError: name 'sleep' is not defined\n",
      "Task exception was never retrieved\n",
      "future: <Task finished name='Task-47' coro=<waits() done, defined at /var/folders/6c/phtqtltd4wn1pydbmzp55knr0000gp/T/ipykernel_11459/1990925770.py:2> exception=NameError(\"name 'sleep' is not defined\")>\n",
      "Traceback (most recent call last):\n",
      "  File \"/Users/Kris/opt/anaconda3/lib/python3.9/asyncio/tasks.py\", line 256, in __step\n",
      "    result = coro.send(None)\n",
      "  File \"/var/folders/6c/phtqtltd4wn1pydbmzp55knr0000gp/T/ipykernel_11459/1990925770.py\", line 5, in waits\n",
      "    sleep(1)\n",
      "NameError: name 'sleep' is not defined\n",
      "Task exception was never retrieved\n",
      "future: <Task finished name='Task-48' coro=<waits() done, defined at /var/folders/6c/phtqtltd4wn1pydbmzp55knr0000gp/T/ipykernel_11459/1990925770.py:2> exception=NameError(\"name 'sleep' is not defined\")>\n",
      "Traceback (most recent call last):\n",
      "  File \"/Users/Kris/opt/anaconda3/lib/python3.9/asyncio/tasks.py\", line 256, in __step\n",
      "    result = coro.send(None)\n",
      "  File \"/var/folders/6c/phtqtltd4wn1pydbmzp55knr0000gp/T/ipykernel_11459/1990925770.py\", line 5, in waits\n",
      "    sleep(1)\n",
      "NameError: name 'sleep' is not defined\n"
     ]
    },
    {
     "ename": "KeyboardInterrupt",
     "evalue": "",
     "output_type": "error",
     "traceback": [
      "\u001b[0;31m---------------------------------------------------------------------------\u001b[0m",
      "\u001b[0;31mKeyboardInterrupt\u001b[0m                         Traceback (most recent call last)",
      "\u001b[0;32m/var/folders/6c/phtqtltd4wn1pydbmzp55knr0000gp/T/ipykernel_11459/1468911789.py\u001b[0m in \u001b[0;36m<module>\u001b[0;34m\u001b[0m\n\u001b[1;32m     19\u001b[0m \u001b[0mloop\u001b[0m \u001b[0;34m=\u001b[0m \u001b[0masyncio\u001b[0m\u001b[0;34m.\u001b[0m\u001b[0mget_event_loop\u001b[0m\u001b[0;34m(\u001b[0m\u001b[0;34m)\u001b[0m\u001b[0;34m\u001b[0m\u001b[0;34m\u001b[0m\u001b[0m\n\u001b[1;32m     20\u001b[0m \u001b[0ma\u001b[0m \u001b[0;34m=\u001b[0m \u001b[0mtime\u001b[0m\u001b[0;34m.\u001b[0m\u001b[0mtime\u001b[0m\u001b[0;34m(\u001b[0m\u001b[0;34m)\u001b[0m\u001b[0;34m\u001b[0m\u001b[0;34m\u001b[0m\u001b[0m\n\u001b[0;32m---> 21\u001b[0;31m \u001b[0mloop\u001b[0m\u001b[0;34m.\u001b[0m\u001b[0mrun_until_complete\u001b[0m\u001b[0;34m(\u001b[0m\u001b[0mworker\u001b[0m\u001b[0;34m(\u001b[0m\u001b[0;34m)\u001b[0m\u001b[0;34m)\u001b[0m\u001b[0;34m\u001b[0m\u001b[0;34m\u001b[0m\u001b[0m\n\u001b[0m\u001b[1;32m     22\u001b[0m \u001b[0mprint\u001b[0m\u001b[0;34m(\u001b[0m\u001b[0mtime\u001b[0m\u001b[0;34m.\u001b[0m\u001b[0mtime\u001b[0m\u001b[0;34m(\u001b[0m\u001b[0;34m)\u001b[0m\u001b[0;34m-\u001b[0m\u001b[0ma\u001b[0m\u001b[0;34m)\u001b[0m\u001b[0;34m\u001b[0m\u001b[0;34m\u001b[0m\u001b[0m\n\u001b[1;32m     23\u001b[0m \u001b[0;31m#loop.close()\u001b[0m\u001b[0;34m\u001b[0m\u001b[0;34m\u001b[0m\u001b[0m\n",
      "\u001b[0;32m~/opt/anaconda3/lib/python3.9/site-packages/nest_asyncio.py\u001b[0m in \u001b[0;36mrun_until_complete\u001b[0;34m(self, future)\u001b[0m\n\u001b[1;32m     81\u001b[0m                 \u001b[0mf\u001b[0m\u001b[0;34m.\u001b[0m\u001b[0m_log_destroy_pending\u001b[0m \u001b[0;34m=\u001b[0m \u001b[0;32mFalse\u001b[0m\u001b[0;34m\u001b[0m\u001b[0;34m\u001b[0m\u001b[0m\n\u001b[1;32m     82\u001b[0m             \u001b[0;32mwhile\u001b[0m \u001b[0;32mnot\u001b[0m \u001b[0mf\u001b[0m\u001b[0;34m.\u001b[0m\u001b[0mdone\u001b[0m\u001b[0;34m(\u001b[0m\u001b[0;34m)\u001b[0m\u001b[0;34m:\u001b[0m\u001b[0;34m\u001b[0m\u001b[0;34m\u001b[0m\u001b[0m\n\u001b[0;32m---> 83\u001b[0;31m                 \u001b[0mself\u001b[0m\u001b[0;34m.\u001b[0m\u001b[0m_run_once\u001b[0m\u001b[0;34m(\u001b[0m\u001b[0;34m)\u001b[0m\u001b[0;34m\u001b[0m\u001b[0;34m\u001b[0m\u001b[0m\n\u001b[0m\u001b[1;32m     84\u001b[0m                 \u001b[0;32mif\u001b[0m \u001b[0mself\u001b[0m\u001b[0;34m.\u001b[0m\u001b[0m_stopping\u001b[0m\u001b[0;34m:\u001b[0m\u001b[0;34m\u001b[0m\u001b[0;34m\u001b[0m\u001b[0m\n\u001b[1;32m     85\u001b[0m                     \u001b[0;32mbreak\u001b[0m\u001b[0;34m\u001b[0m\u001b[0;34m\u001b[0m\u001b[0m\n",
      "\u001b[0;32m~/opt/anaconda3/lib/python3.9/site-packages/nest_asyncio.py\u001b[0m in \u001b[0;36m_run_once\u001b[0;34m(self)\u001b[0m\n\u001b[1;32m    117\u001b[0m             \u001b[0mhandle\u001b[0m \u001b[0;34m=\u001b[0m \u001b[0mready\u001b[0m\u001b[0;34m.\u001b[0m\u001b[0mpopleft\u001b[0m\u001b[0;34m(\u001b[0m\u001b[0;34m)\u001b[0m\u001b[0;34m\u001b[0m\u001b[0;34m\u001b[0m\u001b[0m\n\u001b[1;32m    118\u001b[0m             \u001b[0;32mif\u001b[0m \u001b[0;32mnot\u001b[0m \u001b[0mhandle\u001b[0m\u001b[0;34m.\u001b[0m\u001b[0m_cancelled\u001b[0m\u001b[0;34m:\u001b[0m\u001b[0;34m\u001b[0m\u001b[0;34m\u001b[0m\u001b[0m\n\u001b[0;32m--> 119\u001b[0;31m                 \u001b[0mhandle\u001b[0m\u001b[0;34m.\u001b[0m\u001b[0m_run\u001b[0m\u001b[0;34m(\u001b[0m\u001b[0;34m)\u001b[0m\u001b[0;34m\u001b[0m\u001b[0;34m\u001b[0m\u001b[0m\n\u001b[0m\u001b[1;32m    120\u001b[0m         \u001b[0mhandle\u001b[0m \u001b[0;34m=\u001b[0m \u001b[0;32mNone\u001b[0m\u001b[0;34m\u001b[0m\u001b[0;34m\u001b[0m\u001b[0m\n\u001b[1;32m    121\u001b[0m \u001b[0;34m\u001b[0m\u001b[0m\n",
      "\u001b[0;32m~/opt/anaconda3/lib/python3.9/asyncio/events.py\u001b[0m in \u001b[0;36m_run\u001b[0;34m(self)\u001b[0m\n\u001b[1;32m     78\u001b[0m     \u001b[0;32mdef\u001b[0m \u001b[0m_run\u001b[0m\u001b[0;34m(\u001b[0m\u001b[0mself\u001b[0m\u001b[0;34m)\u001b[0m\u001b[0;34m:\u001b[0m\u001b[0;34m\u001b[0m\u001b[0;34m\u001b[0m\u001b[0m\n\u001b[1;32m     79\u001b[0m         \u001b[0;32mtry\u001b[0m\u001b[0;34m:\u001b[0m\u001b[0;34m\u001b[0m\u001b[0;34m\u001b[0m\u001b[0m\n\u001b[0;32m---> 80\u001b[0;31m             \u001b[0mself\u001b[0m\u001b[0;34m.\u001b[0m\u001b[0m_context\u001b[0m\u001b[0;34m.\u001b[0m\u001b[0mrun\u001b[0m\u001b[0;34m(\u001b[0m\u001b[0mself\u001b[0m\u001b[0;34m.\u001b[0m\u001b[0m_callback\u001b[0m\u001b[0;34m,\u001b[0m \u001b[0;34m*\u001b[0m\u001b[0mself\u001b[0m\u001b[0;34m.\u001b[0m\u001b[0m_args\u001b[0m\u001b[0;34m)\u001b[0m\u001b[0;34m\u001b[0m\u001b[0;34m\u001b[0m\u001b[0m\n\u001b[0m\u001b[1;32m     81\u001b[0m         \u001b[0;32mexcept\u001b[0m \u001b[0;34m(\u001b[0m\u001b[0mSystemExit\u001b[0m\u001b[0;34m,\u001b[0m \u001b[0mKeyboardInterrupt\u001b[0m\u001b[0;34m)\u001b[0m\u001b[0;34m:\u001b[0m\u001b[0;34m\u001b[0m\u001b[0;34m\u001b[0m\u001b[0m\n\u001b[1;32m     82\u001b[0m             \u001b[0;32mraise\u001b[0m\u001b[0;34m\u001b[0m\u001b[0;34m\u001b[0m\u001b[0m\n",
      "\u001b[0;32m~/opt/anaconda3/lib/python3.9/site-packages/nest_asyncio.py\u001b[0m in \u001b[0;36mstep\u001b[0;34m(task, exc)\u001b[0m\n\u001b[1;32m    193\u001b[0m         \u001b[0mcurr_task\u001b[0m \u001b[0;34m=\u001b[0m \u001b[0mcurr_tasks\u001b[0m\u001b[0;34m.\u001b[0m\u001b[0mget\u001b[0m\u001b[0;34m(\u001b[0m\u001b[0mtask\u001b[0m\u001b[0;34m.\u001b[0m\u001b[0m_loop\u001b[0m\u001b[0;34m)\u001b[0m\u001b[0;34m\u001b[0m\u001b[0;34m\u001b[0m\u001b[0m\n\u001b[1;32m    194\u001b[0m         \u001b[0;32mtry\u001b[0m\u001b[0;34m:\u001b[0m\u001b[0;34m\u001b[0m\u001b[0;34m\u001b[0m\u001b[0m\n\u001b[0;32m--> 195\u001b[0;31m             \u001b[0mstep_orig\u001b[0m\u001b[0;34m(\u001b[0m\u001b[0mtask\u001b[0m\u001b[0;34m,\u001b[0m \u001b[0mexc\u001b[0m\u001b[0;34m)\u001b[0m\u001b[0;34m\u001b[0m\u001b[0;34m\u001b[0m\u001b[0m\n\u001b[0m\u001b[1;32m    196\u001b[0m         \u001b[0;32mfinally\u001b[0m\u001b[0;34m:\u001b[0m\u001b[0;34m\u001b[0m\u001b[0;34m\u001b[0m\u001b[0m\n\u001b[1;32m    197\u001b[0m             \u001b[0;32mif\u001b[0m \u001b[0mcurr_task\u001b[0m \u001b[0;32mis\u001b[0m \u001b[0;32mNone\u001b[0m\u001b[0;34m:\u001b[0m\u001b[0;34m\u001b[0m\u001b[0;34m\u001b[0m\u001b[0m\n",
      "\u001b[0;32m~/opt/anaconda3/lib/python3.9/asyncio/tasks.py\u001b[0m in \u001b[0;36m__step\u001b[0;34m(***failed resolving arguments***)\u001b[0m\n\u001b[1;32m    254\u001b[0m                 \u001b[0;31m# We use the `send` method directly, because coroutines\u001b[0m\u001b[0;34m\u001b[0m\u001b[0;34m\u001b[0m\u001b[0m\n\u001b[1;32m    255\u001b[0m                 \u001b[0;31m# don't have `__iter__` and `__next__` methods.\u001b[0m\u001b[0;34m\u001b[0m\u001b[0;34m\u001b[0m\u001b[0m\n\u001b[0;32m--> 256\u001b[0;31m                 \u001b[0mresult\u001b[0m \u001b[0;34m=\u001b[0m \u001b[0mcoro\u001b[0m\u001b[0;34m.\u001b[0m\u001b[0msend\u001b[0m\u001b[0;34m(\u001b[0m\u001b[0;32mNone\u001b[0m\u001b[0;34m)\u001b[0m\u001b[0;34m\u001b[0m\u001b[0;34m\u001b[0m\u001b[0m\n\u001b[0m\u001b[1;32m    257\u001b[0m             \u001b[0;32melse\u001b[0m\u001b[0;34m:\u001b[0m\u001b[0;34m\u001b[0m\u001b[0;34m\u001b[0m\u001b[0m\n\u001b[1;32m    258\u001b[0m                 \u001b[0mresult\u001b[0m \u001b[0;34m=\u001b[0m \u001b[0mcoro\u001b[0m\u001b[0;34m.\u001b[0m\u001b[0mthrow\u001b[0m\u001b[0;34m(\u001b[0m\u001b[0mexc\u001b[0m\u001b[0;34m)\u001b[0m\u001b[0;34m\u001b[0m\u001b[0;34m\u001b[0m\u001b[0m\n",
      "\u001b[0;32m/var/folders/6c/phtqtltd4wn1pydbmzp55knr0000gp/T/ipykernel_11459/1468911789.py\u001b[0m in \u001b[0;36mwaits\u001b[0;34m(name)\u001b[0m\n\u001b[1;32m      3\u001b[0m     \u001b[0;32mfor\u001b[0m \u001b[0m_\u001b[0m \u001b[0;32min\u001b[0m \u001b[0mrange\u001b[0m\u001b[0;34m(\u001b[0m\u001b[0;36m4\u001b[0m\u001b[0;34m)\u001b[0m\u001b[0;34m:\u001b[0m\u001b[0;34m\u001b[0m\u001b[0;34m\u001b[0m\u001b[0m\n\u001b[1;32m      4\u001b[0m         \u001b[0mprint\u001b[0m\u001b[0;34m(\u001b[0m\u001b[0;34m\"hello\"\u001b[0m\u001b[0;34m)\u001b[0m\u001b[0;34m\u001b[0m\u001b[0;34m\u001b[0m\u001b[0m\n\u001b[0;32m----> 5\u001b[0;31m         \u001b[0mtime\u001b[0m\u001b[0;34m.\u001b[0m\u001b[0msleep\u001b[0m\u001b[0;34m(\u001b[0m\u001b[0;36m1\u001b[0m\u001b[0;34m)\u001b[0m\u001b[0;34m\u001b[0m\u001b[0;34m\u001b[0m\u001b[0m\n\u001b[0m\u001b[1;32m      6\u001b[0m         \u001b[0;31m#await asyncio.sleep(2)\u001b[0m\u001b[0;34m\u001b[0m\u001b[0;34m\u001b[0m\u001b[0m\n\u001b[1;32m      7\u001b[0m         \u001b[0mprint\u001b[0m\u001b[0;34m(\u001b[0m\u001b[0;34m\"{} waited\"\u001b[0m\u001b[0;34m\"\"\u001b[0m\u001b[0;34m.\u001b[0m\u001b[0mformat\u001b[0m\u001b[0;34m(\u001b[0m\u001b[0mname\u001b[0m\u001b[0;34m)\u001b[0m\u001b[0;34m)\u001b[0m\u001b[0;34m\u001b[0m\u001b[0;34m\u001b[0m\u001b[0m\n",
      "\u001b[0;31mKeyboardInterrupt\u001b[0m: "
     ]
    }
   ],
   "source": [
    "import time\n",
    "async def waits(name): \n",
    "    for _ in range(4):\n",
    "        print(\"hello\")\n",
    "        time.sleep(1)\n",
    "        #await asyncio.sleep(2)\n",
    "        print(\"{} waited\"\"\".format(name))\n",
    "\n",
    "async def worker():\n",
    "        #await asyncio.wait([waits(\"first\"),waits(\"second\")]) #Old way\n",
    "        await asyncio.wait([ #this is the correct way to call asyncio as of 3.8\n",
    "            asyncio.create_task(waits(\"first\")),\n",
    "            asyncio.create_task(waits(\"second\")),\n",
    "            asyncio.create_task(waits(\"third\")),\n",
    "            asyncio.create_task(waits(\"forth\")),\n",
    "            asyncio.create_task(waits(\"fith\")),\n",
    "\n",
    "        ])\n",
    "loop = asyncio.get_event_loop()\n",
    "a = time.time()\n",
    "loop.run_until_complete(worker())\n",
    "print(time.time()-a)\n",
    "#loop.close()"
   ]
  },
  {
   "cell_type": "code",
   "execution_count": null,
   "id": "1846b2f7",
   "metadata": {},
   "outputs": [],
   "source": [
    "pip install aiohttp"
   ]
  },
  {
   "cell_type": "code",
   "execution_count": 18,
   "id": "b381ef7a",
   "metadata": {},
   "outputs": [
    {
     "name": "stdout",
     "output_type": "stream",
     "text": [
      "1\n",
      "1\n",
      "2\n",
      "2\n",
      "3\n",
      "3\n",
      "4\n",
      "4\n"
     ]
    }
   ],
   "source": [
    "import asyncio\n",
    "\n",
    "async def print_numbers():\n",
    "    for i in range(1, 5):\n",
    "        print(i)\n",
    "        await asyncio.sleep(1)\n",
    "\n",
    "async def main():\n",
    "    task1 = asyncio.create_task(print_numbers())\n",
    "    task2 = asyncio.create_task(print_numbers())\n",
    "    await task1\n",
    "    await task2\n",
    "\n",
    "asyncio.run(main())"
   ]
  },
  {
   "cell_type": "code",
   "execution_count": 19,
   "id": "5d828392",
   "metadata": {},
   "outputs": [
    {
     "name": "stdout",
     "output_type": "stream",
     "text": [
      "1\n",
      "2\n",
      "3\n",
      "4\n",
      "5\n",
      "6\n",
      "7\n",
      "8\n",
      "9\n",
      "10\n",
      "1\n",
      "2\n",
      "3\n",
      "4\n",
      "5\n",
      "6\n",
      "7\n",
      "8\n",
      "9\n",
      "10\n"
     ]
    }
   ],
   "source": [
    "import asyncio\n",
    "\n",
    "async def print_numbers():\n",
    "    for i in range(1, 11):\n",
    "        print(i)\n",
    "        time.sleep(1)\n",
    "\n",
    "async def main():\n",
    "    task1 = asyncio.create_task(print_numbers())\n",
    "    task2 = asyncio.create_task(print_numbers())\n",
    "\n",
    "asyncio.run(main())"
   ]
  },
  {
   "cell_type": "code",
   "execution_count": 17,
   "id": "23bf11e4",
   "metadata": {},
   "outputs": [
    {
     "name": "stdout",
     "output_type": "stream",
     "text": [
      "http://www.floatrates.com/daily/eur.json\n",
      "http://www.floatrates.com/daily/jpy.json\n",
      "http://www.floatrates.com/daily/usd.json\n",
      "http://www.floatrates.com/daily/rub.json\n",
      "http://www.floatrates.com/daily/cad.json\n",
      "1.9337410926818848\n",
      "eur 1\n",
      "jpy 144.89584422744\n",
      "usd 1.0662687763511\n",
      "rub 80.932394730128\n",
      "cad 1.4517242951802\n"
     ]
    }
   ],
   "source": [
    "import asyncio\n",
    "import aiohttp\n",
    "\n",
    "rates = ['eur','jpy','usd','rub','cad']\n",
    "bases = ['eur','jpy','usd','rub','cad']\n",
    "\n",
    "async def fetch_data(bases):           \n",
    "    web = \"http://www.floatrates.com/daily/\"+str(bases)+\".json\"\n",
    "    print(web)\n",
    "    async with aiohttp.ClientSession() as session:\n",
    "        async with session.get(web) as response:\n",
    "            data = await response.json()          \n",
    "            data[bases]= {'rate':1}\n",
    "            return data\n",
    "    \n",
    "async def main():\n",
    "    a = time.time()\n",
    "    data = [await fetch_data(base) for base in bases]\n",
    "    print(time.time()-a)\n",
    "    datas = data[0]\n",
    "    for rate in rates:\n",
    "        print(str(rate) +' '+ str(datas[rate]['rate']))\n",
    "\n",
    "asyncio.run(main())"
   ]
  },
  {
   "cell_type": "markdown",
   "id": "0e76db5c",
   "metadata": {},
   "source": [
    "## Project # 2\n",
    "\n",
    "Create a Multiprocessing, Threaded and Asynchronous application that will calculate the highest prime number in 3 min.\n",
    "\n",
    "You must start a 0\n",
    "\n",
    "After you have created these programs analyze  the performance of each. IE: How long did it take to find prime number? Compare each prime and why each found that prime number. \n",
    "\n",
    "If you wish you can calculate any other non dependent item and them perform analyses.\n",
    "\n",
    "For code consistancy use the following is_prime function.\n",
    "```python\n",
    "def is_prime(n):\n",
    "    if n <= 1:\n",
    "        return False\n",
    "    for i in range(2, int(n ** 0.5) + 1):\n",
    "        if n % i == 0:\n",
    "            return False\n",
    "    return True\n",
    "```\n",
    "    async    13386001\n",
    "    threaded(2) 10747921\n",
    "    "
   ]
  },
  {
   "cell_type": "code",
   "execution_count": 45,
   "id": "2f6f7366",
   "metadata": {},
   "outputs": [],
   "source": [
    "def getStuff (Lists):\n",
    "    list1 = []\n",
    "    for List in Lists:\n",
    "        if (Lists[0] == 4):\n",
    "            list1.append(List);\n",
    "    return list1;\n"
   ]
  },
  {
   "cell_type": "code",
   "execution_count": 46,
   "id": "967a1a3c",
   "metadata": {},
   "outputs": [
    {
     "name": "stdout",
     "output_type": "stream",
     "text": [
      "1\n",
      "2\n",
      "3\n",
      "4\n",
      "5\n"
     ]
    },
    {
     "data": {
      "text/plain": [
       "[4]"
      ]
     },
     "execution_count": 46,
     "metadata": {},
     "output_type": "execute_result"
    }
   ],
   "source": [
    "getStuff([1,2,3,4,5])"
   ]
  },
  {
   "cell_type": "code",
   "execution_count": 3,
   "id": "ab9e34fc",
   "metadata": {},
   "outputs": [
    {
     "name": "stdout",
     "output_type": "stream",
     "text": [
      "1\n",
      "2\n",
      "2\n",
      "3\n",
      "3\n",
      "4\n"
     ]
    }
   ],
   "source": [
    "a = 1\n",
    "for i in range(a,4):\n",
    "    print(i)\n",
    "\n",
    "    print(i)"
   ]
  },
  {
   "cell_type": "code",
   "execution_count": null,
   "id": "135f9993",
   "metadata": {},
   "outputs": [],
   "source": []
  }
 ],
 "metadata": {
  "kernelspec": {
   "display_name": "Python 3 (ipykernel)",
   "language": "python",
   "name": "python3"
  },
  "language_info": {
   "codemirror_mode": {
    "name": "ipython",
    "version": 3
   },
   "file_extension": ".py",
   "mimetype": "text/x-python",
   "name": "python",
   "nbconvert_exporter": "python",
   "pygments_lexer": "ipython3",
   "version": "3.11.2"
  }
 },
 "nbformat": 4,
 "nbformat_minor": 5
}
